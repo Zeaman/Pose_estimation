{
 "cells": [
  {
   "attachments": {},
   "cell_type": "markdown",
   "metadata": {},
   "source": [
    "## Pose_Estimation"
   ]
  },
  {
   "attachments": {},
   "cell_type": "markdown",
   "metadata": {},
   "source": [
    "### Strategy-1: Using Coordinates as input and Lables (Correct & Incorrect)"
   ]
  },
  {
   "attachments": {},
   "cell_type": "markdown",
   "metadata": {},
   "source": [
    "#### Install requierd libraries"
   ]
  },
  {
   "cell_type": "code",
   "execution_count": null,
   "metadata": {},
   "outputs": [],
   "source": [
    "'''Install requiered dependencies/libraries\n",
    "-pip install numpy\n",
    "-pip install opencv-python\n",
    "-pip install scikit-learn\n",
    "-pip install tensorflow\n",
    "-pip install keras\n",
    "-pip install hmmlearn\n",
    "-pip install matplotlib\n",
    "-pip install mediapipe ... for coordinate extracting\n",
    "'''"
   ]
  },
  {
   "attachments": {},
   "cell_type": "markdown",
   "metadata": {},
   "source": [
    "#### Import installed and required python libraries"
   ]
  },
  {
   "cell_type": "code",
   "execution_count": 38,
   "metadata": {},
   "outputs": [],
   "source": [
    "#Import requiered  installed libraries\n",
    "import os\n",
    "import cv2\n",
    "import json\n",
    "import numpy as np\n",
    "import pandas as pd\n",
    "import mediapipe as mp\n",
    "import tensorflow as tf\n",
    "import matplotlib.pyplot as plt\n",
    "from tensorflow import keras\n",
    "from keras.models import Sequential\n",
    "from tensorflow.keras import layers\n",
    "from sklearn.metrics import accuracy_score\n",
    "from sklearn.preprocessing import LabelEncoder\n",
    "from tensorflow.keras.models import load_model\n",
    "from sklearn.model_selection import train_test_split\n",
    "from tensorflow.keras.callbacks import EarlyStopping\n",
    "from keras.layers import Conv2D, MaxPooling2D, Flatten, Dense\n",
    "from tensorflow.keras.layers import Conv1D, MaxPooling1D, Flatten, Dense\n",
    "#from hmmlearn import hmm"
   ]
  },
  {
   "attachments": {},
   "cell_type": "markdown",
   "metadata": {},
   "source": [
    "### 1) Load & Process the dataset"
   ]
  },
  {
   "cell_type": "code",
   "execution_count": 62,
   "metadata": {},
   "outputs": [],
   "source": [
    "# Constants\n",
    "exercise = \"squat\"\n",
    "keypoint_indices = [0, 1, 2, 3, 4, 5, 6, 7, 8, 9, 10, 11, 12, 13, 14, 15, 16, 17, 18, 19, 20, 21, 22, 23, 24]"
   ]
  },
  {
   "cell_type": "code",
   "execution_count": null,
   "metadata": {},
   "outputs": [],
   "source": [
    "# Process the JSON files and extract pose data\n",
    "def process_json_files(data_dir):\n",
    "    data = []\n",
    "    labels = []\n",
    "\n",
    "    # Iterate over the folders in the data directory\n",
    "    for folder_name in os.listdir(data_dir):\n",
    "        folder_path = os.path.join(data_dir, folder_name)\n",
    "\n",
    "        # Skip non-directory files (e.g., .DS_Store)\n",
    "        if not os.path.isdir(folder_path):\n",
    "            continue\n",
    "\n",
    "        # Determine the label based on whether it's the trainer or trainee folder\n",
    "        if folder_name == \"s08\":\n",
    "            label = \"correct\"\n",
    "        else:\n",
    "            label = \"incorrect\"\n",
    "\n",
    "        # Path to the joints3d_25 folder\n",
    "        joints3d_path = os.path.join(folder_path, \"joints3d_25\")\n",
    "\n",
    "        # Iterate over the files in the joints3d_25 folder\n",
    "        for filename in os.listdir(joints3d_path):\n",
    "            if filename.endswith(\".json\") and filename != \".DS_Store\":\n",
    "                file_path = os.path.join(joints3d_path, filename)\n",
    "\n",
    "                # Open and parse the JSON file\n",
    "                with open(file_path, \"r\") as f:\n",
    "                    json_data = json.load(f)\n",
    "\n",
    "                # Extract skeleton coordinates for each frame\n",
    "                for frame_data in json_data[\"joints3d_25\"]:\n",
    "                    pose_data = []\n",
    "\n",
    "                    # Extract coordinates for each body part\n",
    "                    for part_coords in frame_data:\n",
    "                        pose_data.extend(part_coords)\n",
    "\n",
    "                    # Append the pose data and label to the lists\n",
    "                    data.append(pose_data)\n",
    "                    labels.append(label)\n",
    "\n",
    "    return data, labels\n"
   ]
  },
  {
   "cell_type": "code",
   "execution_count": null,
   "metadata": {},
   "outputs": [],
   "source": [
    "# Specify the data directory\n",
    "data_dir = \"D:/AI/pos_estimation/train/train\"\n",
    "\n",
    "# Process the JSON files and extract pose data\n",
    "data, labels = process_json_files(data_dir)\n",
    "\n",
    "# Print the shape of the data and labels\n",
    "print(\"Data shape:\", len(data))\n",
    "print(\"Labels shape:\", len(labels))"
   ]
  },
  {
   "cell_type": "code",
   "execution_count": 64,
   "metadata": {},
   "outputs": [],
   "source": [
    "# Process the JSON files and extract pose data\n",
    "data, labels = process_json_files(data_dir)"
   ]
  },
  {
   "cell_type": "code",
   "execution_count": 65,
   "metadata": {},
   "outputs": [],
   "source": [
    "# Encode the labels\n",
    "label_encoder = LabelEncoder()\n",
    "labels_encoded = label_encoder.fit_transform(labels)"
   ]
  },
  {
   "cell_type": "code",
   "execution_count": 66,
   "metadata": {},
   "outputs": [],
   "source": [
    "# Define the label mapping\n",
    "label_mapping = {0: \"correct\", 1: \"incorrect\"}"
   ]
  },
  {
   "cell_type": "code",
   "execution_count": 67,
   "metadata": {},
   "outputs": [],
   "source": [
    "# Split the data into training and testing sets\n",
    "X_train, X_test, y_train, y_test = train_test_split(data, labels_encoded, test_size=0.2, random_state=42)"
   ]
  },
  {
   "cell_type": "code",
   "execution_count": 68,
   "metadata": {},
   "outputs": [
    {
     "name": "stdout",
     "output_type": "stream",
     "text": [
      "Length of X_train: 16720\n",
      "Length of X_test: 4181\n"
     ]
    }
   ],
   "source": [
    "print(\"Length of X_train:\", len(X_train))\n",
    "print(\"Length of X_test:\", len(X_test))"
   ]
  },
  {
   "cell_type": "code",
   "execution_count": 69,
   "metadata": {},
   "outputs": [],
   "source": [
    "# Convert data to tensors\n",
    "X_train = tf.convert_to_tensor(X_train, dtype=tf.float32)\n",
    "X_test = tf.convert_to_tensor(X_test, dtype=tf.float32)\n",
    "y_train = tf.convert_to_tensor(y_train, dtype=tf.int32)\n",
    "y_test = tf.convert_to_tensor(y_test, dtype=tf.int32)"
   ]
  },
  {
   "cell_type": "code",
   "execution_count": 70,
   "metadata": {},
   "outputs": [],
   "source": [
    "# Reshape the data\n",
    "X_train = tf.reshape(X_train, shape=(-1, 25, 3))\n",
    "X_test = tf.reshape(X_test, shape=(-1, 25, 3))"
   ]
  },
  {
   "cell_type": "code",
   "execution_count": 71,
   "metadata": {},
   "outputs": [],
   "source": [
    "# Normalize the data\n",
    "X_train /= 255.0\n",
    "X_test /= 255.0"
   ]
  },
  {
   "cell_type": "code",
   "execution_count": 72,
   "metadata": {},
   "outputs": [
    {
     "name": "stdout",
     "output_type": "stream",
     "text": [
      "X_train shape: (16720, 25, 3)\n",
      "X_test shape: (4181, 25, 3)\n"
     ]
    }
   ],
   "source": [
    "# Print the shape of train and test data\n",
    "print(\"X_train shape:\", X_train.shape)\n",
    "print(\"X_test shape:\", X_test.shape)"
   ]
  },
  {
   "attachments": {},
   "cell_type": "markdown",
   "metadata": {},
   "source": [
    "### 2) Feature Extraction with CNN"
   ]
  },
  {
   "attachments": {},
   "cell_type": "markdown",
   "metadata": {},
   "source": [
    "1) Model"
   ]
  },
  {
   "cell_type": "code",
   "execution_count": 73,
   "metadata": {},
   "outputs": [],
   "source": [
    "# Build the CNN model\n",
    "model = tf.keras.Sequential([\n",
    "    layers.Conv1D(32, 3, activation='relu', input_shape=(25, 3)),\n",
    "    layers.MaxPooling1D(2),\n",
    "    layers.Conv1D(64, 3, activation='relu'),\n",
    "    layers.MaxPooling1D(2),\n",
    "    layers.Flatten(),\n",
    "    layers.Dense(64, activation='relu'),\n",
    "    layers.Dense(2, activation='softmax')  # For labels/targets we have 2 classes: correct and incorrect\n",
    "])"
   ]
  },
  {
   "cell_type": "code",
   "execution_count": 74,
   "metadata": {},
   "outputs": [
    {
     "name": "stdout",
     "output_type": "stream",
     "text": [
      "Model: \"sequential_1\"\n",
      "_________________________________________________________________\n",
      " Layer (type)                Output Shape              Param #   \n",
      "=================================================================\n",
      " conv1d_2 (Conv1D)           (None, 23, 32)            320       \n",
      "                                                                 \n",
      " max_pooling1d_2 (MaxPooling  (None, 11, 32)           0         \n",
      " 1D)                                                             \n",
      "                                                                 \n",
      " conv1d_3 (Conv1D)           (None, 9, 64)             6208      \n",
      "                                                                 \n",
      " max_pooling1d_3 (MaxPooling  (None, 4, 64)            0         \n",
      " 1D)                                                             \n",
      "                                                                 \n",
      " flatten_1 (Flatten)         (None, 256)               0         \n",
      "                                                                 \n",
      " dense_2 (Dense)             (None, 64)                16448     \n",
      "                                                                 \n",
      " dense_3 (Dense)             (None, 2)                 130       \n",
      "                                                                 \n",
      "=================================================================\n",
      "Total params: 23,106\n",
      "Trainable params: 23,106\n",
      "Non-trainable params: 0\n",
      "_________________________________________________________________\n"
     ]
    }
   ],
   "source": [
    "# Print the model summary\n",
    "model.summary()"
   ]
  },
  {
   "cell_type": "code",
   "execution_count": 75,
   "metadata": {},
   "outputs": [],
   "source": [
    "# Compile the model\n",
    "model.compile(optimizer='adam', loss='sparse_categorical_crossentropy', metrics=['accuracy'])"
   ]
  },
  {
   "cell_type": "code",
   "execution_count": 76,
   "metadata": {},
   "outputs": [
    {
     "name": "stdout",
     "output_type": "stream",
     "text": [
      "Epoch 1/10\n",
      "523/523 [==============================] - 12s 7ms/step - loss: 0.3536 - accuracy: 0.8916 - val_loss: 0.3557 - val_accuracy: 0.8852\n",
      "Epoch 2/10\n",
      "523/523 [==============================] - 3s 6ms/step - loss: 0.3430 - accuracy: 0.8916 - val_loss: 0.3507 - val_accuracy: 0.8852\n",
      "Epoch 3/10\n",
      "523/523 [==============================] - 3s 6ms/step - loss: 0.3322 - accuracy: 0.8916 - val_loss: 0.3295 - val_accuracy: 0.8852\n",
      "Epoch 4/10\n",
      "523/523 [==============================] - 3s 6ms/step - loss: 0.2976 - accuracy: 0.8935 - val_loss: 0.2679 - val_accuracy: 0.9003\n",
      "Epoch 5/10\n",
      "523/523 [==============================] - 3s 6ms/step - loss: 0.2543 - accuracy: 0.9170 - val_loss: 0.2435 - val_accuracy: 0.9294\n",
      "Epoch 6/10\n",
      "523/523 [==============================] - 3s 7ms/step - loss: 0.2407 - accuracy: 0.9248 - val_loss: 0.2346 - val_accuracy: 0.9294\n",
      "Epoch 7/10\n",
      "523/523 [==============================] - 4s 7ms/step - loss: 0.2233 - accuracy: 0.9326 - val_loss: 0.2217 - val_accuracy: 0.9321\n",
      "Epoch 8/10\n",
      "523/523 [==============================] - 4s 8ms/step - loss: 0.2168 - accuracy: 0.9341 - val_loss: 0.2125 - val_accuracy: 0.9347\n",
      "Epoch 9/10\n",
      "523/523 [==============================] - 3s 6ms/step - loss: 0.2065 - accuracy: 0.9370 - val_loss: 0.2055 - val_accuracy: 0.9352\n",
      "Epoch 10/10\n",
      "523/523 [==============================] - 4s 7ms/step - loss: 0.1993 - accuracy: 0.9400 - val_loss: 0.2046 - val_accuracy: 0.9314\n"
     ]
    }
   ],
   "source": [
    "# Train the model and store the training history\n",
    "history = model.fit(X_train, y_train, epochs=10, batch_size=32, validation_data=(X_test, y_test))"
   ]
  },
  {
   "attachments": {},
   "cell_type": "markdown",
   "metadata": {},
   "source": [
    "#### Validation parameters"
   ]
  },
  {
   "cell_type": "code",
   "execution_count": 77,
   "metadata": {},
   "outputs": [
    {
     "name": "stdout",
     "output_type": "stream",
     "text": [
      "Average Accuracy:\n",
      "  Training Accuracy: 0.9400\n",
      "  Validation Accuracy: 0.9314\n",
      "Average Loss:\n",
      "  Training Loss: 0.1993\n",
      "  Validation Loss: 0.2046\n"
     ]
    }
   ],
   "source": [
    "# Calculate the average accuracy and error\n",
    "train_acc = history.history['accuracy'][-1]\n",
    "val_acc = history.history['val_accuracy'][-1]\n",
    "train_loss = history.history['loss'][-1]\n",
    "val_loss = history.history['val_loss'][-1]\n",
    "\n",
    "# Print the average accuracy and error\n",
    "print(\"Average Accuracy:\")\n",
    "print(f\"  Training Accuracy: {train_acc:.4f}\")\n",
    "print(f\"  Validation Accuracy: {val_acc:.4f}\")\n",
    "\n",
    "print(\"Average Loss:\")\n",
    "print(f\"  Training Loss: {train_loss:.4f}\")\n",
    "print(f\"  Validation Loss: {val_loss:.4f}\")"
   ]
  },
  {
   "attachments": {},
   "cell_type": "markdown",
   "metadata": {},
   "source": [
    "#### Plot the training results"
   ]
  },
  {
   "cell_type": "code",
   "execution_count": 78,
   "metadata": {},
   "outputs": [],
   "source": [
    "# Get the training and validation metrics from the history\n",
    "train_accuracy = history.history['accuracy']\n",
    "val_accuracy = history.history['val_accuracy']\n",
    "train_loss = history.history['loss']\n",
    "val_loss = history.history['val_loss']"
   ]
  },
  {
   "cell_type": "code",
   "execution_count": 79,
   "metadata": {},
   "outputs": [
    {
     "data": {
      "image/png": "[encoded data removed]",
      "text/plain": [
       "<Figure size 640x480 with 1 Axes>"
      ]
     },
     "metadata": {},
     "output_type": "display_data"
    }
   ],
   "source": [
    "# Plot the training and validation accuracy\n",
    "plt.plot(train_accuracy, label='Training Accuracy')\n",
    "plt.plot(val_accuracy, label='Validation Accuracy')\n",
    "plt.xlabel('Epoch')\n",
    "plt.ylabel('Accuracy')\n",
    "plt.legend()\n",
    "plt.show()"
   ]
  },
  {
   "cell_type": "code",
   "execution_count": 80,
   "metadata": {},
   "outputs": [
    {
     "data": {
      "image/png": "[encoded data removed]",
      "text/plain": [
       "<Figure size 640x480 with 1 Axes>"
      ]
     },
     "metadata": {},
     "output_type": "display_data"
    }
   ],
   "source": [
    "# Plot the training and validation loss\n",
    "plt.plot(train_loss, label='Training Loss')\n",
    "plt.plot(val_loss, label='Validation Loss')\n",
    "plt.xlabel('Epoch')\n",
    "plt.ylabel('Loss')\n",
    "plt.legend()\n",
    "plt.show()"
   ]
  },
  {
   "attachments": {},
   "cell_type": "markdown",
   "metadata": {},
   "source": [
    "#### Save the best model"
   ]
  },
  {
   "cell_type": "code",
   "execution_count": 81,
   "metadata": {},
   "outputs": [
    {
     "name": "stderr",
     "output_type": "stream",
     "text": [
      "WARNING:absl:Found untraced functions such as _jit_compiled_convolution_op, _jit_compiled_convolution_op, _update_step_xla while saving (showing 3 of 3). These functions will not be directly callable after loading.\n"
     ]
    },
    {
     "name": "stdout",
     "output_type": "stream",
     "text": [
      "INFO:tensorflow:Assets written to: D:/AI/pos_estimation/best_models/one\\assets\n"
     ]
    },
    {
     "name": "stderr",
     "output_type": "stream",
     "text": [
      "INFO:tensorflow:Assets written to: D:/AI/pos_estimation/best_models/one\\assets\n"
     ]
    }
   ],
   "source": [
    "# Specify the path to save the model\n",
    "path_to_save_model = \"D:/AI/pos_estimation/best_models/one\"\n",
    "\n",
    "# Save the model\n",
    "model.save(path_to_save_model)"
   ]
  },
  {
   "cell_type": "code",
   "execution_count": 82,
   "metadata": {},
   "outputs": [],
   "source": [
    "# Save the model to the specified file\n",
    "model.save('D:/AI/pos_estimation/best_models/one/best_model.h5')"
   ]
  },
  {
   "attachments": {},
   "cell_type": "markdown",
   "metadata": {},
   "source": [
    "#### Test the above model"
   ]
  },
  {
   "attachments": {},
   "cell_type": "markdown",
   "metadata": {},
   "source": [
    "#### Coordinate extracting"
   ]
  },
  {
   "cell_type": "code",
   "execution_count": 17,
   "metadata": {},
   "outputs": [],
   "source": [
    "# Coordiante extracting from landmarks using mediapipe\n",
    "mp_drawing = mp.solutions.drawing_utils\n",
    "mp_pose = mp.solutions.pose"
   ]
  },
  {
   "cell_type": "code",
   "execution_count": null,
   "metadata": {},
   "outputs": [],
   "source": [
    "#For test Video one(s02)\n",
    "\n",
    "# Define the indices of the body parts you want to detect\n",
    "body_part_indices = [0, 1, 2, 3, 4, 5, 6, 7, 8, 9, 10, 11, 12, 13, 14, 15, 16, 17, 18, 19, 20, 21, 22, 23, 24]\n",
    "\n",
    "# Specify the path to the test folder\n",
    "test_folder = r'D:\\AI\\pos_estimation\\test\\test'\n",
    "\n",
    "# Get the list of test videos\n",
    "test_videos = [\n",
    "    #r's13\\videos\\squat.mp4',\n",
    "    r's02\\videos\\squat.mp4',\n",
    "    #r's12\\videos\\squat.mp4'\n",
    "]\n",
    "\n",
    "# Function to extract frames and get coordinates from a video\n",
    "def extract_frames_and_get_coordinates(video_path):\n",
    "    coordinates = []\n",
    "    cap = cv2.VideoCapture(video_path)\n",
    "    with mp.solutions.pose.Pose(min_detection_confidence=0.5, min_tracking_confidence=0.5) as pose:\n",
    "        while cap.isOpened():\n",
    "            ret, frame = cap.read()\n",
    "            \n",
    "            if not ret:\n",
    "                break\n",
    "            \n",
    "            # Recolor image to RGB\n",
    "            image = cv2.cvtColor(frame, cv2.COLOR_BGR2RGB)\n",
    "            image.flags.writeable = False\n",
    "          \n",
    "            # Make detection\n",
    "            results = pose.process(image)\n",
    "        \n",
    "            # Recolor back to BGR\n",
    "            image.flags.writeable = True\n",
    "            image = cv2.cvtColor(image, cv2.COLOR_RGB2BGR)\n",
    "            \n",
    "            # Extract landmarks\n",
    "            try:\n",
    "                landmarks = results.pose_landmarks.landmark\n",
    "                frame_coordinates = []\n",
    "                for idx, landmark in enumerate(landmarks):\n",
    "                    if idx in body_part_indices:\n",
    "                        x, y, z = landmark.x, landmark.y, landmark.z\n",
    "                        frame_coordinates.append((x, y, z))\n",
    "                coordinates.append(frame_coordinates)\n",
    "            except:\n",
    "                pass\n",
    "            \n",
    "            # Render detections\n",
    "            mp.solutions.drawing_utils.draw_landmarks(image, results.pose_landmarks, mp.solutions.pose.POSE_CONNECTIONS,\n",
    "                                                     mp.solutions.drawing_utils.DrawingSpec(color=(245, 117, 66), thickness=2, circle_radius=2),\n",
    "                                                     mp.solutions.drawing_utils.DrawingSpec(color=(245, 66, 230), thickness=2, circle_radius=2))\n",
    "            \n",
    "            cv2.imshow('Landmarks using Mediapipe', image)\n",
    "        \n",
    "            if cv2.waitKey(10) & 0xFF == ord('q'):\n",
    "                break\n",
    "        \n",
    "        cap.release()\n",
    "        cv2.destroyAllWindows()\n",
    "    \n",
    "    return coordinates\n",
    "\n",
    "# Create the main directory for saving the coordinates\n",
    "output_dir = r'D:\\AI\\pos_estimation\\test_coordinates'\n",
    "os.makedirs(output_dir, exist_ok=True)\n",
    "\n",
    "# Process each test video\n",
    "for video in test_videos:\n",
    "    video_path = os.path.join(test_folder, video)\n",
    "    coordinates = extract_frames_and_get_coordinates(video_path)\n",
    "    print(\"Coordinates for video {}:\".format(video))\n",
    "    for frame_idx, frame_coordinates in enumerate(coordinates):\n",
    "        print(\"Frame {}: {}\".format(frame_idx, frame_coordinates))\n",
    "    \n",
    "    # Extract the video name and directory name\n",
    "    video_name = os.path.splitext(os.path.basename(video_path))[0]\n",
    "    directory_name = os.path.basename(os.path.dirname(video_path))\n",
    "    \n",
    "    # Create the output directory for the video if it doesn't exist\n",
    "    video_dir = os.path.join(output_dir, directory_name, video_name)\n",
    "    os.makedirs(video_dir, exist_ok=True)\n",
    "    \n",
    "    # Save the coordinates as a JSON file\n",
    "    json_file_path = os.path.join(video_dir, \"{}_coordinates.json\".format(video_name))\n",
    "    if video_name == \"squat\":\n",
    "        os.makedirs(os.path.join(video_dir, \"s02\"), exist_ok=True)\n",
    "        json_file_path = os.path.join(video_dir, \"s02\", \"squat_coordinates.json\")\n",
    "    \n",
    "    with open(json_file_path, 'w') as json_file:\n",
    "        json.dump(coordinates, json_file)\n",
    "    \n",
    "    num_frames = len(coordinates)\n",
    "    print(\"Number of frames extracted for video {}: {}\".format(video, num_frames))\n",
    "    print(\"Coordinates saved as JSON file: {}\".format(json_file_path))\n"
   ]
  },
  {
   "cell_type": "code",
   "execution_count": null,
   "metadata": {},
   "outputs": [],
   "source": [
    "#For test Video two(s12)\n",
    "\n",
    "# Define the indices of the body parts you want to detect\n",
    "body_part_indices = [0, 1, 2, 3, 4, 5, 6, 7, 8, 9, 10, 11, 12, 13, 14, 15, 16, 17, 18, 19, 20, 21, 22, 23, 24]\n",
    "\n",
    "# Specify the path to the test folder\n",
    "test_folder = r'D:\\AI\\pos_estimation\\test\\test'\n",
    "\n",
    "# Get the list of test videos\n",
    "test_videos = [\n",
    "    #r's13\\videos\\squat.mp4',\n",
    "    #r's02\\videos\\squat.mp4',\n",
    "    r's12\\videos\\squat.mp4'\n",
    "]\n",
    "\n",
    "# Function to extract frames and get coordinates from a video\n",
    "def extract_frames_and_get_coordinates(video_path):\n",
    "    coordinates = []\n",
    "    cap = cv2.VideoCapture(video_path)\n",
    "    with mp.solutions.pose.Pose(min_detection_confidence=0.5, min_tracking_confidence=0.5) as pose:\n",
    "        while cap.isOpened():\n",
    "            ret, frame = cap.read()\n",
    "            \n",
    "            if not ret:\n",
    "                break\n",
    "            \n",
    "            # Recolor image to RGB\n",
    "            image = cv2.cvtColor(frame, cv2.COLOR_BGR2RGB)\n",
    "            image.flags.writeable = False\n",
    "          \n",
    "            # Make detection\n",
    "            results = pose.process(image)\n",
    "        \n",
    "            # Recolor back to BGR\n",
    "            image.flags.writeable = True\n",
    "            image = cv2.cvtColor(image, cv2.COLOR_RGB2BGR)\n",
    "            \n",
    "            # Extract landmarks\n",
    "            try:\n",
    "                landmarks = results.pose_landmarks.landmark\n",
    "                frame_coordinates = []\n",
    "                for idx, landmark in enumerate(landmarks):\n",
    "                    if idx in body_part_indices:\n",
    "                        x, y, z = landmark.x, landmark.y, landmark.z\n",
    "                        frame_coordinates.append((x, y, z))\n",
    "                coordinates.append(frame_coordinates)\n",
    "            except:\n",
    "                pass\n",
    "            \n",
    "            # Render detections\n",
    "            mp.solutions.drawing_utils.draw_landmarks(image, results.pose_landmarks, mp.solutions.pose.POSE_CONNECTIONS,\n",
    "                                                     mp.solutions.drawing_utils.DrawingSpec(color=(245, 117, 66), thickness=2, circle_radius=2),\n",
    "                                                     mp.solutions.drawing_utils.DrawingSpec(color=(245, 66, 230), thickness=2, circle_radius=2))\n",
    "            \n",
    "            cv2.imshow('Landmarks using Mediapipe', image)\n",
    "        \n",
    "            if cv2.waitKey(10) & 0xFF == ord('q'):\n",
    "                break\n",
    "        \n",
    "        cap.release()\n",
    "        cv2.destroyAllWindows()\n",
    "    \n",
    "    return coordinates\n",
    "\n",
    "# Create the main directory for saving the coordinates\n",
    "output_dir = r'D:\\AI\\pos_estimation\\test_coordinates'\n",
    "os.makedirs(output_dir, exist_ok=True)\n",
    "\n",
    "# Process each test video\n",
    "for video in test_videos:\n",
    "    video_path = os.path.join(test_folder, video)\n",
    "    coordinates = extract_frames_and_get_coordinates(video_path)\n",
    "    print(\"Coordinates for video {}:\".format(video))\n",
    "    for frame_idx, frame_coordinates in enumerate(coordinates):\n",
    "        print(\"Frame {}: {}\".format(frame_idx, frame_coordinates))\n",
    "    \n",
    "    # Extract the video name and directory name\n",
    "    video_name = os.path.splitext(os.path.basename(video_path))[0]\n",
    "    directory_name = os.path.basename(os.path.dirname(video_path))\n",
    "    \n",
    "    # Create the output directory for the video if it doesn't exist\n",
    "    video_dir = os.path.join(output_dir, directory_name, video_name)\n",
    "    os.makedirs(video_dir, exist_ok=True)\n",
    "    \n",
    "    # Save the coordinates as a JSON file\n",
    "    json_file_path = os.path.join(video_dir, \"{}_coordinates.json\".format(video_name))\n",
    "    if video_name == \"squat\":\n",
    "        os.makedirs(os.path.join(video_dir, \"s12\"), exist_ok=True)\n",
    "        json_file_path = os.path.join(video_dir, \"s12\", \"squat_coordinates.json\")\n",
    "    \n",
    "    with open(json_file_path, 'w') as json_file:\n",
    "        json.dump(coordinates, json_file)\n",
    "    \n",
    "    num_frames = len(coordinates)\n",
    "    print(\"Number of frames extracted for video {}: {}\".format(video, num_frames))\n",
    "    print(\"Coordinates saved as JSON file: {}\".format(json_file_path))\n"
   ]
  },
  {
   "cell_type": "code",
   "execution_count": null,
   "metadata": {},
   "outputs": [],
   "source": [
    "#For test Video three(s13)\n",
    "\n",
    "# Define the indices of the body parts you want to detect\n",
    "body_part_indices = [0, 1, 2, 3, 4, 5, 6, 7, 8, 9, 10, 11, 12, 13, 14, 15, 16, 17, 18, 19, 20, 21, 22, 23, 24]\n",
    "\n",
    "# Specify the path to the test folder\n",
    "test_folder = r'D:\\AI\\pos_estimation\\test\\test'\n",
    "\n",
    "# Get the list of test videos\n",
    "test_videos = [\n",
    "    r's13\\videos\\squat.mp4',\n",
    "    #r's02\\videos\\squat.mp4',\n",
    "    #r's12\\videos\\squat.mp4'\n",
    "]\n",
    "\n",
    "# Function to extract frames and get coordinates from a video\n",
    "def extract_frames_and_get_coordinates(video_path):\n",
    "    coordinates = []\n",
    "    cap = cv2.VideoCapture(video_path)\n",
    "    with mp.solutions.pose.Pose(min_detection_confidence=0.5, min_tracking_confidence=0.5) as pose:\n",
    "        while cap.isOpened():\n",
    "            ret, frame = cap.read()\n",
    "            \n",
    "            if not ret:\n",
    "                break\n",
    "            \n",
    "            # Recolor image to RGB\n",
    "            image = cv2.cvtColor(frame, cv2.COLOR_BGR2RGB)\n",
    "            image.flags.writeable = False\n",
    "          \n",
    "            # Make detection\n",
    "            results = pose.process(image)\n",
    "        \n",
    "            # Recolor back to BGR\n",
    "            image.flags.writeable = True\n",
    "            image = cv2.cvtColor(image, cv2.COLOR_RGB2BGR)\n",
    "            \n",
    "            # Extract landmarks\n",
    "            try:\n",
    "                landmarks = results.pose_landmarks.landmark\n",
    "                frame_coordinates = []\n",
    "                for idx, landmark in enumerate(landmarks):\n",
    "                    if idx in body_part_indices:\n",
    "                        x, y, z = landmark.x, landmark.y, landmark.z\n",
    "                        frame_coordinates.append((x, y, z))\n",
    "                coordinates.append(frame_coordinates)\n",
    "            except:\n",
    "                pass\n",
    "            \n",
    "            # Render detections\n",
    "            mp.solutions.drawing_utils.draw_landmarks(image, results.pose_landmarks, mp.solutions.pose.POSE_CONNECTIONS,\n",
    "                                                     mp.solutions.drawing_utils.DrawingSpec(color=(245, 117, 66), thickness=2, circle_radius=2),\n",
    "                                                     mp.solutions.drawing_utils.DrawingSpec(color=(245, 66, 230), thickness=2, circle_radius=2))\n",
    "            \n",
    "            cv2.imshow('Landmarks using Mediapipe', image)\n",
    "        \n",
    "            if cv2.waitKey(10) & 0xFF == ord('q'):\n",
    "                break\n",
    "        \n",
    "        cap.release()\n",
    "        cv2.destroyAllWindows()\n",
    "    \n",
    "    return coordinates\n",
    "\n",
    "# Create the main directory for saving the coordinates\n",
    "output_dir = r'D:\\AI\\pos_estimation\\test_coordinates'\n",
    "os.makedirs(output_dir, exist_ok=True)\n",
    "\n",
    "# Process each test video\n",
    "for video in test_videos:\n",
    "    video_path = os.path.join(test_folder, video)\n",
    "    coordinates = extract_frames_and_get_coordinates(video_path)\n",
    "    print(\"Coordinates for video {}:\".format(video))\n",
    "    for frame_idx, frame_coordinates in enumerate(coordinates):\n",
    "        print(\"Frame {}: {}\".format(frame_idx, frame_coordinates))\n",
    "    \n",
    "    # Extract the video name and directory name\n",
    "    video_name = os.path.splitext(os.path.basename(video_path))[0]\n",
    "    directory_name = os.path.basename(os.path.dirname(video_path))\n",
    "    \n",
    "    # Create the output directory for the video if it doesn't exist\n",
    "    video_dir = os.path.join(output_dir, directory_name, video_name)\n",
    "    os.makedirs(video_dir, exist_ok=True)\n",
    "    \n",
    "    # Save the coordinates as a JSON file\n",
    "    json_file_path = os.path.join(video_dir, \"{}_coordinates.json\".format(video_name))\n",
    "    if video_name == \"squat\":\n",
    "        os.makedirs(os.path.join(video_dir, \"s13\"), exist_ok=True)\n",
    "        json_file_path = os.path.join(video_dir, \"s13\", \"squat_coordinates.json\")\n",
    "    \n",
    "    with open(json_file_path, 'w') as json_file:\n",
    "        json.dump(coordinates, json_file)\n",
    "    \n",
    "    num_frames = len(coordinates)\n",
    "    print(\"Number of frames extracted for video {}: {}\".format(video, num_frames))\n",
    "    print(\"Coordinates saved as JSON file: {}\".format(json_file_path))\n"
   ]
  },
  {
   "attachments": {},
   "cell_type": "markdown",
   "metadata": {},
   "source": [
    "#### For whole three video coordinate extraction"
   ]
  },
  {
   "cell_type": "code",
   "execution_count": null,
   "metadata": {},
   "outputs": [],
   "source": [
    "# Define the indices of the body parts you want to detect\n",
    "body_part_indices = [0, 1, 2, 3, 4, 5, 6, 7, 8, 9, 10, 11, 12, 13, 14, 15, 16, 17, 18, 19, 20, 21, 22, 23, 24]\n",
    "\n",
    "# Specify the path to the test folder\n",
    "test_folder = r'D:\\AI\\pos_estimation\\test\\test'\n",
    "\n",
    "# Get the list of test videos\n",
    "test_videos = [\n",
    "    {'directory': 's13', 'filename': 'squat.mp4'},\n",
    "    {'directory': 's02', 'filename': 'squat.mp4'},\n",
    "    {'directory': 's12', 'filename': 'squat.mp4'}\n",
    "]\n",
    "\n",
    "# Function to extract frames and get coordinates from a video\n",
    "def extract_frames_and_get_coordinates(video_path):\n",
    "    coordinates = []\n",
    "    cap = cv2.VideoCapture(video_path)\n",
    "    with mp.solutions.pose.Pose(min_detection_confidence=0.5, min_tracking_confidence=0.5) as pose:\n",
    "        while cap.isOpened():\n",
    "            ret, frame = cap.read()\n",
    "\n",
    "            if not ret:\n",
    "                break\n",
    "\n",
    "            # Recolor image to RGB\n",
    "            image = cv2.cvtColor(frame, cv2.COLOR_BGR2RGB)\n",
    "            image.flags.writeable = False\n",
    "\n",
    "            # Make detection\n",
    "            results = pose.process(image)\n",
    "\n",
    "            # Recolor back to BGR\n",
    "            image.flags.writeable = True\n",
    "            image = cv2.cvtColor(image, cv2.COLOR_RGB2BGR)\n",
    "\n",
    "            # Extract landmarks\n",
    "            try:\n",
    "                landmarks = results.pose_landmarks.landmark\n",
    "                frame_coordinates = []\n",
    "                for idx, landmark in enumerate(landmarks):\n",
    "                    if idx in body_part_indices:\n",
    "                        x, y, z = landmark.x, landmark.y, landmark.z\n",
    "                        frame_coordinates.append((x, y, z))\n",
    "                coordinates.append(frame_coordinates)\n",
    "            except:\n",
    "                pass\n",
    "\n",
    "            # Render detections\n",
    "            mp.solutions.drawing_utils.draw_landmarks(image, results.pose_landmarks, mp.solutions.pose.POSE_CONNECTIONS,\n",
    "                                                     mp.solutions.drawing_utils.DrawingSpec(color=(245, 117, 66), thickness=2, circle_radius=2),\n",
    "                                                     mp.solutions.drawing_utils.DrawingSpec(color=(245, 66, 230), thickness=2, circle_radius=2))\n",
    "\n",
    "            cv2.imshow('Mediapipe Feed', image)\n",
    "\n",
    "            if cv2.waitKey(10) & 0xFF == ord('q'):\n",
    "                break\n",
    "\n",
    "        cap.release()\n",
    "        cv2.destroyAllWindows()\n",
    "\n",
    "    return coordinates\n",
    "\n",
    "# Create the main directory for saving the coordinates\n",
    "output_dir = r'D:\\AI\\pos_estimation\\test_coordinates'\n",
    "\n",
    "# Process each test video\n",
    "for video in test_videos:\n",
    "    video_directory = video['directory']\n",
    "    video_filename = video['filename']\n",
    "    video_path = os.path.join(test_folder, video_directory, 'videos', video_filename)\n",
    "    coordinates = extract_frames_and_get_coordinates(video_path)\n",
    "    print(\"Coordinates for video {}: {}\".format(video_directory, coordinates))\n",
    "\n",
    "    # Create the output directory for the video if it doesn't exist\n",
    "    video_dir = os.path.join(output_dir, 'squat', video_directory)\n",
    "    os.makedirs(video_dir, exist_ok=True)\n",
    "\n",
    "    # Save the coordinates as a JSON file\n",
    "    output_file = os.path.join(video_dir, 'squat_coordinates.json')\n",
    "    with open(output_file, 'w') as f:\n",
    "        json.dump(coordinates, f)\n",
    "\n",
    "    print(\"Saved coordinates for video {} to {}\".format(video_directory, output_file))\n"
   ]
  },
  {
   "cell_type": "code",
   "execution_count": null,
   "metadata": {},
   "outputs": [],
   "source": [
    "# Function to calculate angle between three points\n",
    "def calculate_angle(a, b, c):\n",
    "    a = np.array(a)  # First point\n",
    "    b = np.array(b)  # Mid point\n",
    "    c = np.array(c)  # End point\n",
    "    \n",
    "    radians = np.arctan2(c[1] - b[1], c[0] - b[0]) - np.arctan2(a[1] - b[1], a[0] - b[0])\n",
    "    angle = np.abs(radians * 180.0 / np.pi)\n",
    "    \n",
    "    if angle > 180.0:\n",
    "        angle = 360 - angle\n",
    "        \n",
    "    return angle\n",
    "\n",
    "# Define the indices of the body parts you want to detect\n",
    "body_part_indices = [0, 1, 2, 3, 4, 5, 6, 7, 8, 9, 10, 11, 12, 13, 14, 15, 16, 17, 18, 19, 20, 21, 22, 23, 24]\n",
    "\n",
    "# Specify the path to the test folder\n",
    "test_folder = r'D:\\AI\\pos_estimation\\test\\test'\n",
    "\n",
    "# Get the list of test videos\n",
    "test_videos = [\n",
    "    {'directory': 's13', 'filename': 'squat.mp4'},\n",
    "    {'directory': 's02', 'filename': 'squat.mp4'},\n",
    "    {'directory': 's12', 'filename': 'squat.mp4'}\n",
    "]\n",
    "\n",
    "# Function to extract frames and get coordinates from a video\n",
    "def extract_frames_and_get_coordinates(video_path):\n",
    "    coordinates = []\n",
    "    cap = cv2.VideoCapture(video_path)\n",
    "    with mp.solutions.pose.Pose(min_detection_confidence=0.5, min_tracking_confidence=0.5) as pose:\n",
    "        while cap.isOpened():\n",
    "            ret, frame = cap.read()\n",
    "\n",
    "            if not ret:\n",
    "                break\n",
    "\n",
    "            # Recolor image to RGB\n",
    "            image = cv2.cvtColor(frame, cv2.COLOR_BGR2RGB)\n",
    "            image.flags.writeable = False\n",
    "\n",
    "            # Make detection\n",
    "            results = pose.process(image)\n",
    "\n",
    "            # Recolor back to BGR\n",
    "            image.flags.writeable = True\n",
    "            image = cv2.cvtColor(image, cv2.COLOR_RGB2BGR)\n",
    "\n",
    "            # Extract landmarks\n",
    "            try:\n",
    "                landmarks = results.pose_landmarks.landmark\n",
    "                frame_coordinates = []\n",
    "                for idx, landmark in enumerate(landmarks):\n",
    "                    if idx in body_part_indices:\n",
    "                        x, y, z = landmark.x, landmark.y, landmark.z\n",
    "                        frame_coordinates.append((x, y, z))\n",
    "                coordinates.append(frame_coordinates)\n",
    "                \n",
    "                # Calculate angle using the three coordinate points\n",
    "                if len(frame_coordinates) >= 3:\n",
    "                    a, b, c = frame_coordinates[-3:]\n",
    "                    angle = calculate_angle(a, b, c)\n",
    "                    print(\"Angle:\", angle)\n",
    "            except:\n",
    "                pass\n",
    "\n",
    "            # Render detections\n",
    "            mp.solutions.drawing_utils.draw_landmarks(image, results.pose_landmarks, mp.solutions.pose.POSE_CONNECTIONS,\n",
    "                                                     mp.solutions.drawing_utils.DrawingSpec(color=(245, 117, 66), thickness=2, circle_radius=2),\n",
    "                                                     mp.solutions.drawing_utils.DrawingSpec(color=(245, 66, 230), thickness=2, circle_radius=2))\n",
    "\n",
    "            cv2.imshow('Mediapipe Feed', image)\n",
    "\n",
    "            if cv2.waitKey(10) & 0xFF == ord('q'):\n",
    "                break\n",
    "\n",
    "        cap.release()\n",
    "        cv2.destroyAllWindows()\n",
    "\n",
    "    return coordinates\n",
    "\n",
    "# Create the main directory for saving the coordinates\n",
    "output_dir = r'D:\\AI\\pos_estimation\\test_coordinates'\n",
    "\n",
    "# Process each test video\n",
    "for video in test_videos:\n",
    "    video_directory = video['directory']\n",
    "    video_filename = video['filename']\n",
    "    video_path = os.path.join(test_folder, video_directory, 'videos', video_filename)\n",
    "    coordinates = extract_frames_and_get_coordinates(video_path)\n",
    "    print(\"Coordinates for video {}: {}\".format(video_directory, coordinates))\n",
    "\n",
    "    # Create the output directory for the video if it doesn't exist\n",
    "    video_dir = os.path.join(output_dir, 'squat', video_directory)\n",
    "    os.makedirs(video_dir, exist_ok=True)\n",
    "\n",
    "    # Save the coordinates as a JSON file\n",
    "    output_file = os.path.join(video_dir, 'squat_coordinates.json')\n",
    "    with open(output_file, 'w') as f:\n",
    "        json.dump(coordinates, f)\n",
    "\n",
    "    print(\"Saved coordinates for video {} to {}\".format(video_directory, output_file))\n"
   ]
  },
  {
   "attachments": {},
   "cell_type": "markdown",
   "metadata": {},
   "source": [
    "#### Calculate the angle"
   ]
  },
  {
   "cell_type": "code",
   "execution_count": null,
   "metadata": {},
   "outputs": [],
   "source": [
    "# Define the indices of the body parts you want to detect\n",
    "body_part_indices = [0, 1, 2, 3, 4, 5, 6, 7, 8, 9, 10, 11, 12, 13, 14, 15, 16, 17, 18, 19, 20, 21, 22, 23, 24]\n",
    "\n",
    "# Specify the path to the test folder\n",
    "test_folder = r'D:\\AI\\pos_estimation\\test\\test'\n",
    "\n",
    "# Function to calculate the angle between three points\n",
    "def calculate_angle(a, b, c):\n",
    "    a = np.array(a)  # First point\n",
    "    b = np.array(b)  # Mid point\n",
    "    c = np.array(c)  # End point\n",
    "\n",
    "    radians = np.arctan2(c[1] - b[1], c[0] - b[0]) - np.arctan2(a[1] - b[1], a[0] - b[0])\n",
    "    angle = np.abs(radians * 180.0 / np.pi)\n",
    "\n",
    "    if angle > 180.0:\n",
    "        angle = 360 - angle\n",
    "\n",
    "    return angle\n",
    "\n",
    "# Function to extract frames and get coordinates from a video\n",
    "def extract_frames_and_get_coordinates(video_path):\n",
    "    coordinates = []\n",
    "    cap = cv2.VideoCapture(video_path)\n",
    "    with mp.solutions.pose.Pose(min_detection_confidence=0.5, min_tracking_confidence=0.5) as pose:\n",
    "        while cap.isOpened():\n",
    "            ret, frame = cap.read()\n",
    "\n",
    "            if not ret:\n",
    "                break\n",
    "\n",
    "            # Recolor image to RGB\n",
    "            image = cv2.cvtColor(frame, cv2.COLOR_BGR2RGB)\n",
    "            image.flags.writeable = False\n",
    "\n",
    "            # Make detection\n",
    "            results = pose.process(image)\n",
    "\n",
    "            # Recolor back to BGR\n",
    "            image.flags.writeable = True\n",
    "            image = cv2.cvtColor(image, cv2.COLOR_RGB2BGR)\n",
    "\n",
    "            # Extract landmarks\n",
    "            try:\n",
    "                landmarks = results.pose_landmarks.landmark\n",
    "                frame_coordinates = []\n",
    "                for idx, landmark in enumerate(landmarks):\n",
    "                    if idx in body_part_indices:\n",
    "                        x, y, z = landmark.x, landmark.y, landmark.z\n",
    "                        frame_coordinates.append((x, y, z))\n",
    "                coordinates.append(frame_coordinates)\n",
    "            except:\n",
    "                pass\n",
    "\n",
    "            # Render detections\n",
    "            mp.solutions.drawing_utils.draw_landmarks(\n",
    "                image, results.pose_landmarks, mp.solutions.pose.POSE_CONNECTIONS,\n",
    "                mp.solutions.drawing_utils.DrawingSpec(color=(245, 117, 66), thickness=2, circle_radius=2),\n",
    "                mp.solutions.drawing_utils.DrawingSpec(color=(245, 66, 230), thickness=2, circle_radius=2))\n",
    "\n",
    "            cv2.imshow('Mediapipe Feed', image)\n",
    "\n",
    "            if cv2.waitKey(10) & 0xFF == ord('q'):\n",
    "                break\n",
    "\n",
    "        cap.release()\n",
    "        cv2.destroyAllWindows()\n",
    "\n",
    "    return coordinates\n",
    "\n",
    "# Create the main directory for saving the coordinates\n",
    "output_dir = r'D:\\AI\\pos_estimation\\test_coordinates'\n",
    "\n",
    "# Process each test video\n",
    "for video in test_videos:\n",
    "    video_directory = video['directory']\n",
    "    video_filename = video['filename']\n",
    "    video_path = os.path.join(test_folder, video_directory, 'videos', video_filename)\n",
    "    coordinates = extract_frames_and_get_coordinates(video_path)\n",
    "    print(\"Coordinates for video {}: {}\".format(video_directory, coordinates))\n",
    "\n",
    "    # Create the output directory for the video if it doesn't exist\n",
    "    video_dir = os.path.join(output_dir, 'squat', video_directory)\n",
    "    os.makedirs(video_dir, exist_ok=True)\n",
    "\n",
    "    # Save the coordinates as a JSON file\n",
    "    output_file = os.path.join(video_dir, 'squat_coordinates.json')\n",
    "    with open(output_file, 'w') as f:\n",
    "        json.dump(coordinates, f)\n",
    "\n",
    "    print(\"Saved coordinates for video {} to {}\".format(video_directory, output_file))\n",
    "\n",
    "    # Calculate angles\n",
    "    angles = []\n",
    "    for frame_coordinates in coordinates:\n",
    "        if len(frame_coordinates) >= 3:\n",
    "            a, b, c = frame_coordinates[-3:]\n",
    "            angle = calculate_angle(a, b, c)\n",
    "            angles.append(angle)\n",
    "\n",
    "    # Save the angles as a CSV file in the same directory\n",
    "    angles_file = os.path.join(video_dir, 'angles.csv')\n",
    "    with open(angles_file, 'w', newline='') as f:\n",
    "        writer = csv.writer(f)\n",
    "        writer.writerow(['Frame', 'Angle'])\n",
    "        for i, angle in enumerate(angles):\n",
    "            writer.writerow([i+1, angle])\n",
    "\n",
    "    print(\"Saved angles for video {} to {}\".format(video_directory, angles_file))\n"
   ]
  },
  {
   "attachments": {},
   "cell_type": "markdown",
   "metadata": {},
   "source": [
    "### Test the model"
   ]
  },
  {
   "attachments": {},
   "cell_type": "markdown",
   "metadata": {},
   "source": [
    "##### Notice that:\n",
    "- 0 : INCORRECT\n",
    "- 1 : CORRECT"
   ]
  },
  {
   "cell_type": "code",
   "execution_count": 93,
   "metadata": {},
   "outputs": [
    {
     "name": "stdout",
     "output_type": "stream",
     "text": [
      "46/46 [==============================] - 0s 3ms/step\n",
      "['correct', 'correct', 'correct', 'correct', 'correct', 'correct', 'correct', 'correct', 'correct', 'correct', 'correct', 'correct', 'correct', 'correct', 'correct', 'correct', 'correct', 'correct', 'correct', 'correct', 'correct', 'correct', 'correct', 'correct', 'correct', 'correct', 'correct', 'correct', 'correct', 'correct', 'correct', 'correct', 'correct', 'correct', 'correct', 'correct', 'correct', 'correct', 'correct', 'correct', 'correct', 'correct', 'correct', 'correct', 'correct', 'correct', 'correct', 'correct', 'correct', 'correct', 'correct', 'correct', 'correct', 'correct', 'correct', 'correct', 'correct', 'correct', 'correct', 'correct', 'correct', 'correct', 'correct', 'correct', 'correct', 'correct', 'correct', 'correct', 'correct', 'correct', 'correct', 'correct', 'correct', 'correct', 'correct', 'correct', 'correct', 'correct', 'correct', 'correct', 'correct', 'correct', 'correct', 'correct', 'correct', 'correct', 'correct', 'correct', 'correct', 'correct', 'correct', 'correct', 'correct', 'correct', 'correct', 'correct', 'correct', 'correct', 'correct', 'correct', 'correct', 'correct', 'correct', 'correct', 'correct', 'correct', 'correct', 'correct', 'correct', 'correct', 'correct', 'correct', 'correct', 'correct', 'correct', 'correct', 'correct', 'correct', 'correct', 'correct', 'correct', 'correct', 'correct', 'correct', 'correct', 'correct', 'correct', 'correct', 'correct', 'correct', 'correct', 'correct', 'correct', 'correct', 'correct', 'correct', 'correct', 'correct', 'correct', 'correct', 'correct', 'correct', 'correct', 'correct', 'correct', 'correct', 'correct', 'correct', 'correct', 'correct', 'correct', 'correct', 'correct', 'correct', 'correct', 'correct', 'correct', 'correct', 'correct', 'correct', 'correct', 'correct', 'correct', 'correct', 'correct', 'correct', 'correct', 'correct', 'correct', 'correct', 'correct', 'correct', 'correct', 'correct', 'correct', 'correct', 'correct', 'correct', 'correct', 'correct', 'correct', 'correct', 'correct', 'correct', 'correct', 'correct', 'correct', 'correct', 'correct', 'correct', 'correct', 'correct', 'correct', 'correct', 'correct', 'correct', 'correct', 'correct', 'correct', 'correct', 'correct', 'correct', 'correct', 'correct', 'correct', 'correct', 'correct', 'correct', 'correct', 'correct', 'correct', 'correct', 'correct', 'correct', 'correct', 'correct', 'correct', 'correct', 'correct', 'correct', 'correct', 'correct', 'correct', 'correct', 'correct', 'correct', 'correct', 'correct', 'correct', 'correct', 'correct', 'correct', 'correct', 'correct', 'correct', 'correct', 'correct', 'correct', 'correct', 'correct', 'correct', 'correct', 'correct', 'correct', 'correct', 'correct', 'correct', 'correct', 'correct', 'correct', 'correct', 'correct', 'correct', 'correct', 'correct', 'correct', 'correct', 'correct', 'correct', 'correct', 'correct', 'correct', 'correct', 'correct', 'correct', 'correct', 'correct', 'correct', 'correct', 'correct', 'correct', 'correct', 'correct', 'correct', 'correct', 'correct', 'correct', 'correct', 'correct', 'correct', 'correct', 'correct', 'correct', 'correct', 'correct', 'correct', 'correct', 'correct', 'correct', 'correct', 'correct', 'correct', 'correct', 'correct', 'correct', 'correct', 'correct', 'correct', 'correct', 'correct', 'correct', 'correct', 'correct', 'correct', 'correct', 'correct', 'correct', 'correct', 'correct', 'correct', 'correct', 'correct', 'correct', 'correct', 'correct', 'correct', 'correct', 'correct', 'correct', 'correct', 'correct', 'correct', 'correct', 'correct', 'correct', 'correct', 'correct', 'correct', 'correct', 'correct', 'correct', 'correct', 'correct', 'correct', 'correct', 'correct', 'correct', 'correct', 'correct', 'correct', 'correct', 'correct', 'correct', 'correct', 'correct', 'correct', 'correct', 'correct', 'correct', 'correct', 'correct', 'correct', 'correct', 'correct', 'correct', 'correct', 'correct', 'correct', 'correct', 'correct', 'correct', 'correct', 'correct', 'correct', 'correct', 'correct', 'correct', 'correct', 'correct', 'correct', 'correct', 'correct', 'correct', 'correct', 'correct', 'correct', 'correct', 'correct', 'correct', 'correct', 'correct', 'correct', 'correct', 'correct', 'correct', 'correct', 'correct', 'correct', 'correct', 'correct', 'correct', 'correct', 'correct', 'correct', 'correct', 'correct', 'correct', 'correct', 'correct', 'correct', 'correct', 'correct', 'correct', 'correct', 'correct', 'correct', 'correct', 'correct', 'correct', 'correct', 'correct', 'correct', 'correct', 'correct', 'correct', 'correct', 'correct', 'correct', 'correct', 'correct', 'correct', 'correct', 'correct', 'correct', 'correct', 'correct', 'correct', 'correct', 'correct', 'correct', 'correct', 'correct', 'correct', 'correct', 'correct', 'correct', 'correct', 'correct', 'correct', 'correct', 'correct', 'correct', 'correct', 'correct', 'correct', 'correct', 'correct', 'correct', 'correct', 'correct', 'correct', 'correct', 'correct', 'correct', 'correct', 'correct', 'correct', 'correct', 'correct', 'correct', 'correct', 'correct', 'correct', 'correct', 'correct', 'correct', 'correct', 'correct', 'correct', 'correct', 'correct', 'correct', 'correct', 'correct', 'correct', 'correct', 'correct', 'correct', 'correct', 'correct', 'correct', 'correct', 'correct', 'correct', 'correct', 'correct', 'correct', 'correct', 'correct', 'correct', 'correct', 'correct', 'correct', 'correct', 'correct', 'correct', 'correct', 'correct', 'correct', 'correct', 'correct', 'correct', 'correct', 'correct', 'correct', 'correct', 'correct', 'correct', 'correct', 'correct', 'correct', 'correct', 'correct', 'correct', 'correct', 'correct', 'correct', 'correct', 'correct', 'correct', 'correct', 'correct', 'correct', 'correct', 'correct', 'correct', 'correct', 'correct', 'correct', 'correct', 'correct', 'correct', 'correct', 'correct', 'correct', 'correct', 'correct', 'correct', 'correct', 'correct', 'correct', 'correct', 'correct', 'correct', 'correct', 'correct', 'correct', 'correct', 'correct', 'correct', 'correct', 'correct', 'correct', 'correct', 'correct', 'correct', 'correct', 'correct', 'correct', 'correct', 'correct', 'correct', 'correct', 'correct', 'correct', 'correct', 'correct', 'correct', 'correct', 'correct', 'correct', 'correct', 'correct', 'correct', 'correct', 'correct', 'correct', 'correct', 'correct', 'correct', 'correct', 'correct', 'correct', 'correct', 'correct', 'correct', 'correct', 'correct', 'correct', 'correct', 'correct', 'correct', 'correct', 'correct', 'correct', 'correct', 'correct', 'correct', 'correct', 'correct', 'correct', 'correct', 'correct', 'correct', 'correct', 'correct', 'correct', 'correct', 'correct', 'correct', 'correct', 'correct', 'correct', 'correct', 'correct', 'correct', 'correct', 'correct', 'correct', 'correct', 'correct', 'correct', 'correct', 'correct', 'correct', 'correct', 'correct', 'correct', 'correct', 'correct', 'correct', 'correct', 'correct', 'correct', 'correct', 'correct', 'correct', 'correct', 'correct', 'correct', 'correct', 'correct', 'correct', 'correct', 'correct', 'correct', 'correct', 'correct', 'correct', 'correct', 'correct', 'correct', 'correct', 'correct', 'correct', 'correct', 'correct', 'correct', 'correct', 'correct', 'correct', 'correct', 'correct', 'correct', 'correct', 'correct', 'correct', 'correct', 'correct', 'correct', 'correct', 'correct', 'correct', 'correct', 'correct', 'correct', 'correct', 'correct', 'correct', 'correct', 'correct', 'correct', 'correct', 'correct', 'correct', 'correct', 'correct', 'correct', 'correct', 'correct', 'correct', 'correct', 'correct', 'correct', 'correct', 'correct', 'correct', 'correct', 'correct', 'correct', 'correct', 'correct', 'correct', 'correct', 'correct', 'correct', 'correct', 'correct', 'correct', 'correct', 'correct', 'correct', 'correct', 'correct', 'correct', 'correct', 'correct', 'correct', 'correct', 'correct', 'correct', 'correct', 'correct', 'correct', 'correct', 'correct', 'correct', 'correct', 'correct', 'correct', 'correct', 'correct', 'correct', 'correct', 'correct', 'correct', 'correct', 'correct', 'correct', 'correct', 'correct', 'correct', 'correct', 'correct', 'correct', 'correct', 'correct', 'correct', 'correct', 'correct', 'correct', 'correct', 'correct', 'correct', 'correct', 'correct', 'correct', 'correct', 'correct', 'correct', 'correct', 'correct', 'correct', 'correct', 'correct', 'correct', 'correct', 'correct', 'correct', 'correct', 'correct', 'correct', 'correct', 'correct', 'correct', 'correct', 'correct', 'correct', 'correct', 'correct', 'correct', 'correct', 'correct', 'correct', 'correct', 'correct', 'correct', 'correct', 'correct', 'correct', 'correct', 'correct', 'correct', 'correct', 'correct', 'correct', 'correct', 'correct', 'correct', 'correct', 'correct', 'correct', 'correct', 'correct', 'correct', 'correct', 'correct', 'correct', 'correct', 'correct', 'correct', 'correct', 'correct', 'correct', 'correct', 'correct', 'correct', 'correct', 'correct', 'correct', 'correct', 'correct', 'correct', 'correct', 'correct', 'correct', 'correct', 'correct', 'correct', 'correct', 'correct', 'correct', 'correct', 'correct', 'correct', 'correct', 'correct', 'correct', 'correct', 'correct', 'correct', 'correct', 'correct', 'correct', 'correct', 'correct', 'correct', 'correct', 'correct', 'correct', 'correct', 'correct', 'correct', 'correct', 'correct', 'correct', 'correct', 'correct', 'correct', 'correct', 'correct', 'correct', 'correct', 'correct', 'correct', 'correct', 'correct', 'correct', 'correct', 'correct', 'correct', 'correct', 'correct', 'correct', 'correct', 'correct', 'correct', 'correct', 'correct', 'correct', 'correct', 'correct', 'correct', 'correct', 'correct', 'correct', 'correct', 'correct', 'correct', 'correct', 'correct', 'correct', 'correct', 'correct', 'correct', 'correct', 'correct', 'correct', 'correct', 'correct', 'correct', 'correct', 'correct', 'correct', 'correct', 'correct', 'correct', 'correct', 'correct', 'correct', 'correct', 'correct', 'correct', 'correct', 'correct', 'correct', 'correct', 'correct', 'correct', 'correct', 'correct', 'correct', 'correct', 'correct', 'correct', 'correct', 'correct', 'correct', 'correct', 'correct', 'correct', 'correct', 'correct', 'correct', 'correct', 'correct', 'correct', 'correct', 'correct', 'correct', 'correct', 'correct', 'correct', 'correct', 'correct', 'correct', 'correct', 'correct', 'correct', 'correct', 'correct', 'correct', 'correct', 'correct', 'correct', 'correct', 'correct', 'correct', 'correct', 'correct', 'correct', 'correct', 'correct', 'correct', 'correct', 'correct', 'correct', 'correct', 'correct', 'correct', 'correct', 'correct', 'correct', 'correct', 'correct', 'correct', 'correct', 'correct', 'correct', 'correct', 'correct', 'correct', 'correct', 'correct', 'correct', 'correct', 'correct', 'correct', 'correct', 'correct', 'correct', 'correct', 'correct', 'correct', 'correct', 'correct', 'correct', 'correct', 'correct', 'correct', 'correct', 'correct', 'correct', 'correct', 'correct', 'correct', 'correct', 'correct', 'correct', 'correct', 'correct', 'correct', 'correct', 'correct', 'correct', 'correct', 'correct', 'correct', 'correct', 'correct', 'correct', 'correct', 'correct', 'correct', 'correct', 'correct', 'correct', 'correct', 'correct', 'correct', 'correct', 'correct', 'correct', 'correct', 'correct', 'correct', 'correct', 'correct', 'correct', 'correct', 'correct', 'correct', 'correct', 'correct', 'correct', 'correct', 'correct', 'correct', 'correct', 'correct', 'correct', 'correct', 'correct', 'correct', 'correct', 'correct', 'correct', 'correct', 'correct', 'correct', 'correct', 'correct', 'correct', 'correct', 'correct', 'correct', 'correct', 'correct', 'correct', 'correct', 'correct', 'correct', 'correct', 'correct', 'correct', 'correct', 'correct', 'correct', 'correct', 'correct', 'correct', 'correct', 'correct', 'correct', 'correct', 'correct', 'correct', 'correct', 'correct', 'correct', 'correct', 'correct', 'correct', 'correct', 'correct', 'correct', 'correct', 'correct', 'correct', 'correct', 'correct', 'correct', 'correct', 'correct', 'correct', 'correct', 'correct', 'correct', 'correct', 'correct', 'correct', 'correct', 'correct', 'correct', 'correct', 'correct', 'correct', 'correct', 'correct', 'correct', 'correct', 'correct', 'correct', 'correct', 'correct', 'correct', 'correct', 'correct', 'correct', 'correct', 'correct', 'correct', 'correct', 'correct', 'correct', 'correct', 'correct', 'correct', 'correct', 'correct', 'correct', 'correct', 'correct', 'correct', 'correct', 'correct', 'correct', 'correct', 'correct', 'correct', 'correct', 'correct', 'correct', 'correct', 'correct', 'correct', 'correct', 'correct', 'correct', 'correct', 'correct', 'correct', 'correct', 'correct', 'correct', 'correct', 'correct', 'correct', 'correct', 'correct', 'correct', 'correct', 'correct', 'correct', 'correct', 'correct', 'correct', 'correct', 'correct', 'correct', 'correct', 'correct', 'correct', 'correct', 'correct', 'correct', 'correct', 'correct', 'correct', 'correct', 'correct', 'correct', 'correct', 'correct', 'correct', 'correct', 'correct', 'correct', 'correct', 'correct', 'correct', 'correct', 'correct', 'correct', 'correct', 'correct', 'correct', 'correct', 'correct', 'correct', 'correct', 'correct', 'correct', 'correct', 'correct', 'correct', 'correct', 'correct', 'correct', 'correct', 'correct', 'correct', 'correct', 'correct', 'correct', 'correct', 'correct', 'correct', 'correct', 'correct', 'correct', 'correct', 'correct', 'correct', 'correct', 'correct', 'correct', 'correct', 'correct', 'correct', 'correct', 'correct', 'correct', 'correct', 'correct', 'correct', 'correct', 'correct', 'correct', 'correct', 'correct', 'correct', 'correct', 'correct', 'correct', 'correct', 'correct', 'correct', 'correct', 'correct', 'correct', 'correct', 'correct', 'correct', 'correct', 'correct', 'correct', 'correct', 'correct', 'correct', 'correct', 'correct', 'correct', 'correct', 'correct', 'correct', 'correct', 'correct', 'correct', 'correct', 'correct', 'correct', 'correct', 'correct', 'correct', 'correct', 'correct', 'correct', 'correct', 'correct', 'correct', 'correct', 'correct', 'correct', 'correct', 'correct', 'correct', 'correct', 'correct', 'correct', 'correct', 'correct', 'correct', 'correct', 'correct', 'correct', 'correct', 'correct', 'correct', 'correct', 'correct', 'correct', 'correct', 'correct', 'correct', 'correct', 'correct', 'correct', 'correct', 'correct', 'correct', 'correct', 'correct', 'correct', 'correct', 'correct', 'correct', 'correct', 'correct', 'correct', 'correct', 'correct', 'correct', 'correct', 'correct', 'correct', 'correct', 'correct', 'correct', 'correct', 'correct', 'correct', 'correct', 'correct', 'correct', 'correct', 'correct', 'correct', 'correct', 'correct', 'correct', 'correct', 'correct', 'correct', 'correct', 'correct', 'correct', 'correct', 'correct', 'correct', 'correct', 'correct', 'correct', 'correct', 'correct', 'correct', 'correct', 'correct', 'correct', 'correct', 'correct', 'correct', 'correct', 'correct', 'correct', 'correct', 'correct', 'correct', 'correct', 'correct', 'correct', 'correct', 'correct', 'correct', 'correct', 'correct', 'correct', 'correct', 'correct', 'correct', 'correct', 'correct', 'correct', 'correct', 'correct', 'correct', 'correct', 'correct', 'correct', 'correct', 'correct', 'correct', 'correct', 'correct', 'correct', 'correct', 'correct', 'correct', 'correct', 'correct', 'correct', 'correct', 'correct', 'correct', 'correct', 'correct', 'correct', 'correct', 'correct', 'correct', 'correct', 'correct', 'correct', 'correct', 'correct', 'correct', 'correct', 'correct', 'correct', 'correct', 'correct', 'correct', 'correct', 'correct', 'correct', 'correct', 'correct', 'correct', 'correct', 'correct', 'correct', 'correct', 'correct', 'correct', 'correct']\n"
     ]
    }
   ],
   "source": [
    "# Test-1:\n",
    "\n",
    "model = keras.models.load_model(r'D:\\AI\\pos_estimation\\best_models\\one\\best_model.h5')\n",
    "with open(r'D:\\AI\\pos_estimation\\test_coordinates\\squat\\s13\\squat_coordinates.json') as file:\n",
    "    data = json.load(file)\n",
    "\n",
    "# Extract the coordinates from the loaded JSON data\n",
    "coordinates = np.array(data)  # No need for data['coordinates']\n",
    "predictions = model.predict(coordinates)\n",
    "predicted_labels = np.argmax(predictions, axis=1)\n",
    "\n",
    "label_mapping = {0: 'correct', 1: 'incorrect'}\n",
    "interpreted_labels = [label_mapping[label] for label in predicted_labels]\n",
    "# Print the interpreted labels\n",
    "print(interpreted_labels)\n"
   ]
  },
  {
   "cell_type": "code",
   "execution_count": 116,
   "metadata": {},
   "outputs": [
    {
     "name": "stdout",
     "output_type": "stream",
     "text": [
      "46/46 [==============================] - 0s 4ms/step\n"
     ]
    },
    {
     "ename": "IndexError",
     "evalue": "index 2 is out of bounds for axis 1 with size 2",
     "output_type": "error",
     "traceback": [
      "\u001b[1;31m---------------------------------------------------------------------------\u001b[0m",
      "\u001b[1;31mIndexError\u001b[0m                                Traceback (most recent call last)",
      "Cell \u001b[1;32mIn[116], line 15\u001b[0m\n\u001b[0;32m     13\u001b[0m x_predictions \u001b[39m=\u001b[39m predictions[:, \u001b[39m0\u001b[39m]  \u001b[39m# Assuming the first element represents the x coordinate\u001b[39;00m\n\u001b[0;32m     14\u001b[0m y_predictions \u001b[39m=\u001b[39m predictions[:, \u001b[39m1\u001b[39m]  \u001b[39m# Assuming the second element represents the y coordinate\u001b[39;00m\n\u001b[1;32m---> 15\u001b[0m z_predictions \u001b[39m=\u001b[39m predictions[:, \u001b[39m2\u001b[39;49m]  \u001b[39m# Assuming the third element represents the z coordinate\u001b[39;00m\n\u001b[0;32m     17\u001b[0m \u001b[39m# Format the predictions to 3 decimal points\u001b[39;00m\n\u001b[0;32m     18\u001b[0m formatted_x_predictions \u001b[39m=\u001b[39m np\u001b[39m.\u001b[39mround(x_predictions, decimals\u001b[39m=\u001b[39m\u001b[39m3\u001b[39m)\n",
      "\u001b[1;31mIndexError\u001b[0m: index 2 is out of bounds for axis 1 with size 2"
     ]
    }
   ],
   "source": [
    "import json\n",
    "import numpy as np\n",
    "\n",
    "model = keras.models.load_model(r'D:\\AI\\pos_estimation\\best_models\\one\\best_model.h5')\n",
    "with open(r'D:\\AI\\pos_estimation\\test_coordinates\\squat\\s13\\squat_coordinates.json') as file:\n",
    "    data = json.load(file)\n",
    "\n",
    "# Extract the coordinates from the loaded JSON data\n",
    "coordinates = np.array(data)  # No need for data['coordinates']\n",
    "predictions = model.predict(coordinates)\n",
    "\n",
    "# Extract the x, y, and z predictions\n",
    "x_predictions = predictions[:, 0]  # Assuming the first element represents the x coordinate\n",
    "y_predictions = predictions[:, 1]  # Assuming the second element represents the y coordinate\n",
    "z_predictions = predictions[:, 2]  # Assuming the third element represents the z coordinate\n",
    "\n",
    "# Format the predictions to 3 decimal points\n",
    "formatted_x_predictions = np.round(x_predictions, decimals=3)\n",
    "formatted_y_predictions = np.round(y_predictions, decimals=3)\n",
    "formatted_z_predictions = np.round(z_predictions, decimals=3)\n",
    "\n",
    "# Create a dictionary to store the predictions\n",
    "predicted_coordinates = {\n",
    "    'x': formatted_x_predictions.tolist(),\n",
    "    'y': formatted_y_predictions.tolist(),\n",
    "    'z': formatted_z_predictions.tolist()\n",
    "}\n",
    "\n",
    "# Save the predicted coordinates to a JSON file\n",
    "output_file = r'D:\\AI\\pos_estimation\\predicted_coordinates.json'\n",
    "with open(output_file, 'w') as file:\n",
    "    json.dump(predicted_coordinates, file)\n",
    "\n",
    "# Print the saved coordinates\n",
    "print(\"Predicted coordinates saved to:\", output_file)\n"
   ]
  },
  {
   "attachments": {},
   "cell_type": "markdown",
   "metadata": {},
   "source": [
    "### Other model"
   ]
  },
  {
   "cell_type": "code",
   "execution_count": 31,
   "metadata": {},
   "outputs": [
    {
     "name": "stdout",
     "output_type": "stream",
     "text": [
      "Epoch 1/10\n",
      "523/523 [==============================] - 6s 7ms/step - loss: 0.3732 - accuracy: 0.8902 - val_loss: 0.3576 - val_accuracy: 0.8852\n",
      "Epoch 2/10\n",
      "523/523 [==============================] - 3s 6ms/step - loss: 0.3432 - accuracy: 0.8916 - val_loss: 0.3549 - val_accuracy: 0.8852\n",
      "Epoch 3/10\n",
      "523/523 [==============================] - 3s 5ms/step - loss: 0.3372 - accuracy: 0.8916 - val_loss: 0.3566 - val_accuracy: 0.8852\n",
      "Epoch 4/10\n",
      "523/523 [==============================] - 3s 5ms/step - loss: 0.3026 - accuracy: 0.8942 - val_loss: 0.2673 - val_accuracy: 0.8974\n",
      "Epoch 5/10\n",
      "523/523 [==============================] - 3s 7ms/step - loss: 0.2489 - accuracy: 0.9233 - val_loss: 0.2436 - val_accuracy: 0.9273\n",
      "Epoch 6/10\n",
      "523/523 [==============================] - 3s 5ms/step - loss: 0.2315 - accuracy: 0.9294 - val_loss: 0.2299 - val_accuracy: 0.9323\n",
      "Epoch 7/10\n",
      "523/523 [==============================] - 3s 5ms/step - loss: 0.2204 - accuracy: 0.9328 - val_loss: 0.2219 - val_accuracy: 0.9357\n",
      "Epoch 8/10\n",
      "523/523 [==============================] - 3s 5ms/step - loss: 0.2083 - accuracy: 0.9366 - val_loss: 0.2121 - val_accuracy: 0.9371\n",
      "Epoch 9/10\n",
      "523/523 [==============================] - 4s 7ms/step - loss: 0.2076 - accuracy: 0.9370 - val_loss: 0.2060 - val_accuracy: 0.9383\n",
      "Epoch 10/10\n",
      "523/523 [==============================] - 2s 4ms/step - loss: 0.1988 - accuracy: 0.9400 - val_loss: 0.1963 - val_accuracy: 0.9414\n"
     ]
    },
    {
     "data": {
      "text/plain": [
       "<keras.callbacks.History at 0x2219d2406d0>"
      ]
     },
     "execution_count": 31,
     "metadata": {},
     "output_type": "execute_result"
    }
   ],
   "source": [
    "# Constants\n",
    "exercise = \"squat\"\n",
    "keypoint_indices = [0, 1, 2, 3, 4, 5, 6, 7, 8, 9, 10, 11, 12, 13, 14, 15, 16, 17, 18, 19, 20, 21, 22, 23, 24]\n",
    "\n",
    "# Process the JSON files and extract pose data\n",
    "def process_json_files(data_dir):\n",
    "    data = []\n",
    "    labels = []\n",
    "\n",
    "    # Iterate over the folders in the data directory\n",
    "    for folder_name in os.listdir(data_dir):\n",
    "        folder_path = os.path.join(data_dir, folder_name)\n",
    "\n",
    "        # Skip non-directory files (e.g., .DS_Store)\n",
    "        if not os.path.isdir(folder_path):\n",
    "            continue\n",
    "\n",
    "        # Determine the label based on whether it's the trainer or trainee folder\n",
    "        if folder_name == \"s08\":\n",
    "            label = \"correct\"\n",
    "        else:\n",
    "            label = \"incorrect\"\n",
    "\n",
    "        # Path to the joints3d_25 folder\n",
    "        joints3d_path = os.path.join(folder_path, \"joints3d_25\")\n",
    "\n",
    "        # Iterate over the files in the joints3d_25 folder\n",
    "        for filename in os.listdir(joints3d_path):\n",
    "            if filename.endswith(\".json\") and filename != \".DS_Store\":\n",
    "                file_path = os.path.join(joints3d_path, filename)\n",
    "\n",
    "                # Open and parse the JSON file\n",
    "                with open(file_path, \"r\") as f:\n",
    "                    json_data = json.load(f)\n",
    "\n",
    "                # Extract skeleton coordinates for each frame\n",
    "                for frame_data in json_data[\"joints3d_25\"]:\n",
    "                    pose_data = []\n",
    "\n",
    "                    # Extract coordinates for each body part\n",
    "                    for index in keypoint_indices:\n",
    "                        part_coords = frame_data[index]\n",
    "                        pose_data.extend(part_coords)\n",
    "\n",
    "                    # Append the pose data and label to the lists\n",
    "                    data.append(pose_data)\n",
    "                    labels.append(label)\n",
    "\n",
    "    return data, labels\n",
    "\n",
    "# Specify the data directory\n",
    "data_dir = \"D:/AI/pos_estimation/train/train\"\n",
    "\n",
    "# Process the JSON files and extract pose data\n",
    "data, labels = process_json_files(data_dir)\n",
    "\n",
    "# Encode the labels\n",
    "label_encoder = LabelEncoder()\n",
    "labels_encoded = label_encoder.fit_transform(labels)\n",
    "\n",
    "# Split the data into training and testing sets\n",
    "X_train, X_test, y_train, y_test = train_test_split(data, labels_encoded, test_size=0.2, random_state=42)\n",
    "\n",
    "# Convert data to tensors\n",
    "X_train = tf.convert_to_tensor(X_train, dtype=tf.float32)\n",
    "X_test = tf.convert_to_tensor(X_test, dtype=tf.float32)\n",
    "y_train = tf.convert_to_tensor(y_train, dtype=tf.int32)\n",
    "y_test = tf.convert_to_tensor(y_test, dtype=tf.int32)\n",
    "\n",
    "# Reshape the data\n",
    "X_train = tf.reshape(X_train, shape=(-1, 25, 3))\n",
    "X_test = tf.reshape(X_test, shape=(-1, 25, 3))\n",
    "\n",
    "# Normalize the data\n",
    "X_train /= 255.0\n",
    "X_test /= 255.0\n",
    "\n",
    "# CNN Model\n",
    "cnn_model = tf.keras.Sequential([\n",
    "    layers.Conv1D(32, 3, activation='relu', input_shape=(25, 3)),\n",
    "    layers.MaxPooling1D(2),\n",
    "    layers.Conv1D(64, 3, activation='relu'),\n",
    "    layers.MaxPooling1D(2),\n",
    "    layers.Flatten(),\n",
    "    layers.Dense(64, activation='relu'),\n",
    "    layers.Dense(3, activation='softmax')  # 3 classes: correct, incorrect, almost correct\n",
    "])\n",
    "\n",
    "cnn_model.compile(optimizer='adam', loss='sparse_categorical_crossentropy', metrics=['accuracy'])\n",
    "cnn_model.fit(X_train, y_train, epochs=10, batch_size=32, validation_data=(X_test, y_test))"
   ]
  },
  {
   "attachments": {},
   "cell_type": "markdown",
   "metadata": {},
   "source": [
    "                                        **********************************"
   ]
  },
  {
   "attachments": {},
   "cell_type": "markdown",
   "metadata": {},
   "source": [
    "#### Try-2"
   ]
  },
  {
   "cell_type": "code",
   "execution_count": 19,
   "metadata": {},
   "outputs": [
    {
     "name": "stdout",
     "output_type": "stream",
     "text": [
      "523/523 [==============================] - 3s 5ms/step\n",
      "131/131 [==============================] - 1s 5ms/step\n"
     ]
    },
    {
     "name": "stderr",
     "output_type": "stream",
     "text": [
      "Model is not converging.  Current: 55.6733104794739 is not greater than 62.73782106764467. Delta is -7.064510588170769\n",
      "Even though the 'startprob_' attribute is set, it will be overwritten during initialization because 'init_params' contains 's'\n",
      "Even though the 'transmat_' attribute is set, it will be overwritten during initialization because 'init_params' contains 't'\n",
      "Fitting a model with 26 free scalar parameters with only 3 data points will result in a degenerate solution.\n",
      "Even though the 'means_' attribute is set, it will be overwritten during initialization because 'init_params' contains 'm'\n"
     ]
    },
    {
     "ename": "ValueError",
     "evalue": "n_samples=1 should be >= n_clusters=3.",
     "output_type": "error",
     "traceback": [
      "\u001b[1;31m---------------------------------------------------------------------------\u001b[0m",
      "\u001b[1;31mValueError\u001b[0m                                Traceback (most recent call last)",
      "Cell \u001b[1;32mIn[19], line 38\u001b[0m\n\u001b[0;32m     36\u001b[0m hmm_model \u001b[39m=\u001b[39m hmm\u001b[39m.\u001b[39mGaussianHMM(n_components\u001b[39m=\u001b[39mnum_states, covariance_type\u001b[39m=\u001b[39m\u001b[39m\"\u001b[39m\u001b[39mdiag\u001b[39m\u001b[39m\"\u001b[39m, n_iter\u001b[39m=\u001b[39m\u001b[39m100\u001b[39m)\n\u001b[0;32m     37\u001b[0m \u001b[39mfor\u001b[39;00m sequence \u001b[39min\u001b[39;00m exercise_sequences_train:\n\u001b[1;32m---> 38\u001b[0m     hmm_model\u001b[39m.\u001b[39;49mfit(sequence)\n\u001b[0;32m     40\u001b[0m \u001b[39m# Evaluate the trained HMM model on the test set and calculate performance metrics\u001b[39;00m\n\u001b[0;32m     41\u001b[0m predicted_labels \u001b[39m=\u001b[39m []\n",
      "File \u001b[1;32md:\\AI\\pos_estimation\\pose_estimation\\lib\\site-packages\\hmmlearn\\base.py:468\u001b[0m, in \u001b[0;36m_AbstractHMM.fit\u001b[1;34m(self, X, lengths)\u001b[0m\n\u001b[0;32m    465\u001b[0m \u001b[39mif\u001b[39;00m lengths \u001b[39mis\u001b[39;00m \u001b[39mNone\u001b[39;00m:\n\u001b[0;32m    466\u001b[0m     lengths \u001b[39m=\u001b[39m np\u001b[39m.\u001b[39masarray([X\u001b[39m.\u001b[39mshape[\u001b[39m0\u001b[39m]])\n\u001b[1;32m--> 468\u001b[0m \u001b[39mself\u001b[39;49m\u001b[39m.\u001b[39;49m_init(X, lengths)\n\u001b[0;32m    469\u001b[0m \u001b[39mself\u001b[39m\u001b[39m.\u001b[39m_check()\n\u001b[0;32m    470\u001b[0m \u001b[39mself\u001b[39m\u001b[39m.\u001b[39mmonitor_\u001b[39m.\u001b[39m_reset()\n",
      "File \u001b[1;32md:\\AI\\pos_estimation\\pose_estimation\\lib\\site-packages\\hmmlearn\\hmm.py:302\u001b[0m, in \u001b[0;36mGaussianHMM._init\u001b[1;34m(self, X, lengths)\u001b[0m\n\u001b[0;32m    298\u001b[0m \u001b[39mif\u001b[39;00m \u001b[39mself\u001b[39m\u001b[39m.\u001b[39m_needs_init(\u001b[39m\"\u001b[39m\u001b[39mm\u001b[39m\u001b[39m\"\u001b[39m, \u001b[39m\"\u001b[39m\u001b[39mmeans_\u001b[39m\u001b[39m\"\u001b[39m):\n\u001b[0;32m    299\u001b[0m     kmeans \u001b[39m=\u001b[39m cluster\u001b[39m.\u001b[39mKMeans(n_clusters\u001b[39m=\u001b[39m\u001b[39mself\u001b[39m\u001b[39m.\u001b[39mn_components,\n\u001b[0;32m    300\u001b[0m                             random_state\u001b[39m=\u001b[39m\u001b[39mself\u001b[39m\u001b[39m.\u001b[39mrandom_state,\n\u001b[0;32m    301\u001b[0m                             n_init\u001b[39m=\u001b[39m\u001b[39m1\u001b[39m)  \u001b[39m# sklearn <1.4 backcompat.\u001b[39;00m\n\u001b[1;32m--> 302\u001b[0m     kmeans\u001b[39m.\u001b[39;49mfit(X)\n\u001b[0;32m    303\u001b[0m     \u001b[39mself\u001b[39m\u001b[39m.\u001b[39mmeans_ \u001b[39m=\u001b[39m kmeans\u001b[39m.\u001b[39mcluster_centers_\n\u001b[0;32m    304\u001b[0m \u001b[39mif\u001b[39;00m \u001b[39mself\u001b[39m\u001b[39m.\u001b[39m_needs_init(\u001b[39m\"\u001b[39m\u001b[39mc\u001b[39m\u001b[39m\"\u001b[39m, \u001b[39m\"\u001b[39m\u001b[39mcovars_\u001b[39m\u001b[39m\"\u001b[39m):\n",
      "File \u001b[1;32md:\\AI\\pos_estimation\\pose_estimation\\lib\\site-packages\\sklearn\\cluster\\_kmeans.py:1426\u001b[0m, in \u001b[0;36mKMeans.fit\u001b[1;34m(self, X, y, sample_weight)\u001b[0m\n\u001b[0;32m   1415\u001b[0m \u001b[39mself\u001b[39m\u001b[39m.\u001b[39m_validate_params()\n\u001b[0;32m   1417\u001b[0m X \u001b[39m=\u001b[39m \u001b[39mself\u001b[39m\u001b[39m.\u001b[39m_validate_data(\n\u001b[0;32m   1418\u001b[0m     X,\n\u001b[0;32m   1419\u001b[0m     accept_sparse\u001b[39m=\u001b[39m\u001b[39m\"\u001b[39m\u001b[39mcsr\u001b[39m\u001b[39m\"\u001b[39m,\n\u001b[1;32m   (...)\u001b[0m\n\u001b[0;32m   1423\u001b[0m     accept_large_sparse\u001b[39m=\u001b[39m\u001b[39mFalse\u001b[39;00m,\n\u001b[0;32m   1424\u001b[0m )\n\u001b[1;32m-> 1426\u001b[0m \u001b[39mself\u001b[39;49m\u001b[39m.\u001b[39;49m_check_params_vs_input(X)\n\u001b[0;32m   1428\u001b[0m random_state \u001b[39m=\u001b[39m check_random_state(\u001b[39mself\u001b[39m\u001b[39m.\u001b[39mrandom_state)\n\u001b[0;32m   1429\u001b[0m sample_weight \u001b[39m=\u001b[39m _check_sample_weight(sample_weight, X, dtype\u001b[39m=\u001b[39mX\u001b[39m.\u001b[39mdtype)\n",
      "File \u001b[1;32md:\\AI\\pos_estimation\\pose_estimation\\lib\\site-packages\\sklearn\\cluster\\_kmeans.py:1362\u001b[0m, in \u001b[0;36mKMeans._check_params_vs_input\u001b[1;34m(self, X)\u001b[0m\n\u001b[0;32m   1361\u001b[0m \u001b[39mdef\u001b[39;00m \u001b[39m_check_params_vs_input\u001b[39m(\u001b[39mself\u001b[39m, X):\n\u001b[1;32m-> 1362\u001b[0m     \u001b[39msuper\u001b[39;49m()\u001b[39m.\u001b[39;49m_check_params_vs_input(X, default_n_init\u001b[39m=\u001b[39;49m\u001b[39m10\u001b[39;49m)\n\u001b[0;32m   1364\u001b[0m     \u001b[39mself\u001b[39m\u001b[39m.\u001b[39m_algorithm \u001b[39m=\u001b[39m \u001b[39mself\u001b[39m\u001b[39m.\u001b[39malgorithm\n\u001b[0;32m   1365\u001b[0m     \u001b[39mif\u001b[39;00m \u001b[39mself\u001b[39m\u001b[39m.\u001b[39m_algorithm \u001b[39min\u001b[39;00m (\u001b[39m\"\u001b[39m\u001b[39mauto\u001b[39m\u001b[39m\"\u001b[39m, \u001b[39m\"\u001b[39m\u001b[39mfull\u001b[39m\u001b[39m\"\u001b[39m):\n",
      "File \u001b[1;32md:\\AI\\pos_estimation\\pose_estimation\\lib\\site-packages\\sklearn\\cluster\\_kmeans.py:859\u001b[0m, in \u001b[0;36m_BaseKMeans._check_params_vs_input\u001b[1;34m(self, X, default_n_init)\u001b[0m\n\u001b[0;32m    856\u001b[0m \u001b[39mdef\u001b[39;00m \u001b[39m_check_params_vs_input\u001b[39m(\u001b[39mself\u001b[39m, X, default_n_init\u001b[39m=\u001b[39m\u001b[39mNone\u001b[39;00m):\n\u001b[0;32m    857\u001b[0m     \u001b[39m# n_clusters\u001b[39;00m\n\u001b[0;32m    858\u001b[0m     \u001b[39mif\u001b[39;00m X\u001b[39m.\u001b[39mshape[\u001b[39m0\u001b[39m] \u001b[39m<\u001b[39m \u001b[39mself\u001b[39m\u001b[39m.\u001b[39mn_clusters:\n\u001b[1;32m--> 859\u001b[0m         \u001b[39mraise\u001b[39;00m \u001b[39mValueError\u001b[39;00m(\n\u001b[0;32m    860\u001b[0m             \u001b[39mf\u001b[39m\u001b[39m\"\u001b[39m\u001b[39mn_samples=\u001b[39m\u001b[39m{\u001b[39;00mX\u001b[39m.\u001b[39mshape[\u001b[39m0\u001b[39m]\u001b[39m}\u001b[39;00m\u001b[39m should be >= n_clusters=\u001b[39m\u001b[39m{\u001b[39;00m\u001b[39mself\u001b[39m\u001b[39m.\u001b[39mn_clusters\u001b[39m}\u001b[39;00m\u001b[39m.\u001b[39m\u001b[39m\"\u001b[39m\n\u001b[0;32m    861\u001b[0m         )\n\u001b[0;32m    863\u001b[0m     \u001b[39m# tol\u001b[39;00m\n\u001b[0;32m    864\u001b[0m     \u001b[39mself\u001b[39m\u001b[39m.\u001b[39m_tol \u001b[39m=\u001b[39m _tolerance(X, \u001b[39mself\u001b[39m\u001b[39m.\u001b[39mtol)\n",
      "\u001b[1;31mValueError\u001b[0m: n_samples=1 should be >= n_clusters=3."
     ]
    }
   ],
   "source": [
    "# Extract features from the trained CNN model\n",
    "train_features = cnn_model.predict(X_train)\n",
    "test_features = cnn_model.predict(X_test)\n",
    "\n",
    "# Organize features into sequences for each repetition of the exercise\n",
    "exercise_sequences_train = []\n",
    "exercise_sequences_test = []\n",
    "\n",
    "# Create sequence for training set\n",
    "current_sequence = []\n",
    "current_label = y_train[0]\n",
    "for i in range(len(train_features)):\n",
    "    if y_train[i] == current_label:\n",
    "        current_sequence.append(train_features[i])\n",
    "    else:\n",
    "        exercise_sequences_train.append(current_sequence)\n",
    "        current_sequence = [train_features[i]]\n",
    "        current_label = y_train[i]\n",
    "exercise_sequences_train.append(current_sequence)\n",
    "\n",
    "# Create sequence for test set\n",
    "current_sequence = []\n",
    "current_label = y_test[0]\n",
    "for i in range(len(test_features)):\n",
    "    if y_test[i] == current_label:\n",
    "        current_sequence.append(test_features[i])\n",
    "    else:\n",
    "        exercise_sequences_test.append(current_sequence)\n",
    "        current_sequence = [test_features[i]]\n",
    "        current_label = y_test[i]\n",
    "exercise_sequences_test.append(current_sequence)\n",
    "\n",
    "# Train an HMM model on the feature sequences\n",
    "num_states = 3  # Specify the desired number of HMM states\n",
    "\n",
    "hmm_model = hmm.GaussianHMM(n_components=num_states, covariance_type=\"diag\", n_iter=100)\n",
    "for sequence in exercise_sequences_train:\n",
    "    hmm_model.fit(sequence)\n",
    "\n",
    "# Evaluate the trained HMM model on the test set and calculate performance metrics\n",
    "predicted_labels = []\n",
    "for sequence in exercise_sequences_test:\n",
    "    sequence_likelihoods = []\n",
    "    for state in range(num_states):\n",
    "        log_likelihood = hmm_model.score(sequence)\n",
    "        sequence_likelihoods.append(log_likelihood)\n",
    "    predicted_label = np.argmax(sequence_likelihoods)\n",
    "    predicted_labels.append(predicted_label)\n",
    "\n",
    "accuracy = accuracy_score(y_test, predicted_labels)\n",
    "print(\"Accuracy:\", accuracy)\n"
   ]
  },
  {
   "attachments": {},
   "cell_type": "markdown",
   "metadata": {},
   "source": [
    "#### Try-3"
   ]
  },
  {
   "attachments": {},
   "cell_type": "markdown",
   "metadata": {},
   "source": [
    "### Other CNN models with Fine-tuned"
   ]
  },
  {
   "cell_type": "code",
   "execution_count": 98,
   "metadata": {},
   "outputs": [],
   "source": [
    "# Define the CNN model\n",
    "model = Sequential()\n",
    "model.add(Conv1D(32, kernel_size=3, activation='relu', input_shape=(25, 3)))\n",
    "model.add(MaxPooling1D(pool_size=2))\n",
    "model.add(Flatten())\n",
    "model.add(Dense(64, activation='relu'))\n",
    "model.add(Dense(2, activation='softmax'))"
   ]
  },
  {
   "cell_type": "code",
   "execution_count": 99,
   "metadata": {},
   "outputs": [],
   "source": [
    "# Compile the model\n",
    "model.compile(optimizer='adam', loss='sparse_categorical_crossentropy', metrics=['accuracy'])"
   ]
  },
  {
   "cell_type": "code",
   "execution_count": 100,
   "metadata": {},
   "outputs": [
    {
     "name": "stdout",
     "output_type": "stream",
     "text": [
      "Epoch 1/10\n",
      "523/523 [==============================] - 4s 4ms/step - loss: 0.3552 - accuracy: 0.8916 - val_loss: 0.3567 - val_accuracy: 0.8852\n",
      "Epoch 2/10\n",
      "523/523 [==============================] - 2s 4ms/step - loss: 0.3409 - accuracy: 0.8916 - val_loss: 0.3579 - val_accuracy: 0.8852\n",
      "Epoch 3/10\n",
      "523/523 [==============================] - 2s 4ms/step - loss: 0.3378 - accuracy: 0.8916 - val_loss: 0.3473 - val_accuracy: 0.8852\n",
      "Epoch 4/10\n",
      "523/523 [==============================] - 2s 4ms/step - loss: 0.3222 - accuracy: 0.8916 - val_loss: 0.3374 - val_accuracy: 0.8852\n",
      "Epoch 5/10\n",
      "523/523 [==============================] - 2s 5ms/step - loss: 0.2931 - accuracy: 0.8923 - val_loss: 0.2857 - val_accuracy: 0.8936\n",
      "Epoch 6/10\n",
      "523/523 [==============================] - 3s 5ms/step - loss: 0.2630 - accuracy: 0.9047 - val_loss: 0.2581 - val_accuracy: 0.9187\n",
      "Epoch 7/10\n",
      "523/523 [==============================] - 3s 5ms/step - loss: 0.2480 - accuracy: 0.9219 - val_loss: 0.2769 - val_accuracy: 0.8981\n",
      "Epoch 8/10\n",
      "523/523 [==============================] - 2s 5ms/step - loss: 0.2341 - accuracy: 0.9293 - val_loss: 0.2333 - val_accuracy: 0.9316\n",
      "Epoch 9/10\n",
      "523/523 [==============================] - 2s 4ms/step - loss: 0.2201 - accuracy: 0.9353 - val_loss: 0.2339 - val_accuracy: 0.9180\n",
      "Epoch 10/10\n",
      "523/523 [==============================] - 2s 4ms/step - loss: 0.2159 - accuracy: 0.9350 - val_loss: 0.2142 - val_accuracy: 0.9476\n"
     ]
    }
   ],
   "source": [
    "# Train the model\n",
    "history = model.fit(X_train, y_train, epochs=10, batch_size=32, validation_data=(X_test, y_test))"
   ]
  },
  {
   "attachments": {},
   "cell_type": "markdown",
   "metadata": {},
   "source": [
    "#### Fine-tune the CNN to optimize its performance on pose classification"
   ]
  },
  {
   "cell_type": "code",
   "execution_count": 94,
   "metadata": {},
   "outputs": [],
   "source": [
    "# Define the CNN model\n",
    "model = Sequential()\n",
    "model.add(Conv1D(32, kernel_size=3, activation='relu', input_shape=(25, 3)))\n",
    "model.add(MaxPooling1D(pool_size=2))\n",
    "model.add(Conv1D(64, kernel_size=3, activation='relu'))\n",
    "model.add(MaxPooling1D(pool_size=2))\n",
    "model.add(Flatten())\n",
    "model.add(Dense(128, activation='relu'))\n",
    "model.add(Dense(2, activation='softmax'))"
   ]
  },
  {
   "cell_type": "code",
   "execution_count": 95,
   "metadata": {},
   "outputs": [],
   "source": [
    "# Compile the model\n",
    "model.compile(optimizer='adam', loss='sparse_categorical_crossentropy', metrics=['accuracy'])"
   ]
  },
  {
   "cell_type": "code",
   "execution_count": 96,
   "metadata": {},
   "outputs": [],
   "source": [
    "# Define early stopping callback\n",
    "early_stopping = EarlyStopping(patience=3, restore_best_weights=True)"
   ]
  },
  {
   "cell_type": "code",
   "execution_count": 97,
   "metadata": {},
   "outputs": [
    {
     "name": "stdout",
     "output_type": "stream",
     "text": [
      "Epoch 1/20\n",
      "523/523 [==============================] - 5s 6ms/step - loss: 0.3538 - accuracy: 0.8904 - val_loss: 0.3601 - val_accuracy: 0.8852\n",
      "Epoch 2/20\n",
      "523/523 [==============================] - 3s 5ms/step - loss: 0.3408 - accuracy: 0.8916 - val_loss: 0.3488 - val_accuracy: 0.8852\n",
      "Epoch 3/20\n",
      "523/523 [==============================] - 3s 5ms/step - loss: 0.3205 - accuracy: 0.8916 - val_loss: 0.3052 - val_accuracy: 0.8852\n",
      "Epoch 4/20\n",
      "523/523 [==============================] - 3s 5ms/step - loss: 0.2616 - accuracy: 0.9131 - val_loss: 0.2459 - val_accuracy: 0.9259\n",
      "Epoch 5/20\n",
      "523/523 [==============================] - 3s 6ms/step - loss: 0.2426 - accuracy: 0.9242 - val_loss: 0.2313 - val_accuracy: 0.9314\n",
      "Epoch 6/20\n",
      "523/523 [==============================] - 3s 6ms/step - loss: 0.2269 - accuracy: 0.9304 - val_loss: 0.2267 - val_accuracy: 0.9318\n",
      "Epoch 7/20\n",
      "523/523 [==============================] - 4s 7ms/step - loss: 0.2123 - accuracy: 0.9363 - val_loss: 0.2058 - val_accuracy: 0.9359\n",
      "Epoch 8/20\n",
      "523/523 [==============================] - 3s 5ms/step - loss: 0.2075 - accuracy: 0.9370 - val_loss: 0.2011 - val_accuracy: 0.9364\n",
      "Epoch 9/20\n",
      "523/523 [==============================] - 3s 6ms/step - loss: 0.1970 - accuracy: 0.9395 - val_loss: 0.2478 - val_accuracy: 0.9163\n",
      "Epoch 10/20\n",
      "523/523 [==============================] - 3s 5ms/step - loss: 0.2430 - accuracy: 0.9106 - val_loss: 0.3190 - val_accuracy: 0.8876\n",
      "Epoch 11/20\n",
      "523/523 [==============================] - 3s 5ms/step - loss: 0.2147 - accuracy: 0.9269 - val_loss: 0.2013 - val_accuracy: 0.9280\n"
     ]
    }
   ],
   "source": [
    "# Train the model\n",
    "history = model.fit(X_train, y_train, epochs=20, batch_size=32, validation_data=(X_test, y_test), callbacks=[early_stopping])"
   ]
  },
  {
   "attachments": {},
   "cell_type": "markdown",
   "metadata": {},
   "source": []
  },
  {
   "attachments": {},
   "cell_type": "markdown",
   "metadata": {},
   "source": []
  },
  {
   "attachments": {},
   "cell_type": "markdown",
   "metadata": {},
   "source": [
    "2"
   ]
  },
  {
   "cell_type": "code",
   "execution_count": 50,
   "metadata": {},
   "outputs": [
    {
     "name": "stdout",
     "output_type": "stream",
     "text": [
      "Model: \"sequential_6\"\n",
      "_________________________________________________________________\n",
      " Layer (type)                Output Shape              Param #   \n",
      "=================================================================\n",
      " conv1d_11 (Conv1D)          (None, 23, 32)            320       \n",
      "                                                                 \n",
      " max_pooling1d_11 (MaxPoolin  (None, 11, 32)           0         \n",
      " g1D)                                                            \n",
      "                                                                 \n",
      " conv1d_12 (Conv1D)          (None, 9, 64)             6208      \n",
      "                                                                 \n",
      " max_pooling1d_12 (MaxPoolin  (None, 4, 64)            0         \n",
      " g1D)                                                            \n",
      "                                                                 \n",
      " conv1d_13 (Conv1D)          (None, 2, 128)            24704     \n",
      "                                                                 \n",
      " max_pooling1d_13 (MaxPoolin  (None, 1, 128)           0         \n",
      " g1D)                                                            \n",
      "                                                                 \n",
      " flatten_6 (Flatten)         (None, 128)               0         \n",
      "                                                                 \n",
      " dense_12 (Dense)            (None, 128)               16512     \n",
      "                                                                 \n",
      " dense_13 (Dense)            (None, 64)                8256      \n",
      "                                                                 \n",
      " dense_14 (Dense)            (None, 1)                 65        \n",
      "                                                                 \n",
      "=================================================================\n",
      "Total params: 56,065\n",
      "Trainable params: 56,065\n",
      "Non-trainable params: 0\n",
      "_________________________________________________________________\n"
     ]
    }
   ],
   "source": [
    "import tensorflow as tf\n",
    "from tensorflow.keras import layers\n",
    "\n",
    "# Define the CNN model\n",
    "def build_cnn_model(input_shape):\n",
    "    model = tf.keras.Sequential()\n",
    "\n",
    "    # Convolutional layers\n",
    "    model.add(layers.Conv1D(32, 3, activation='relu', input_shape=input_shape))\n",
    "    model.add(layers.MaxPooling1D(2))\n",
    "    model.add(layers.Conv1D(64, 3, activation='relu'))\n",
    "    model.add(layers.MaxPooling1D(2))\n",
    "    model.add(layers.Conv1D(128, 3, activation='relu'))\n",
    "    model.add(layers.MaxPooling1D(2))\n",
    "\n",
    "    # Flatten layer\n",
    "    model.add(layers.Flatten())\n",
    "\n",
    "    # Dense layers\n",
    "    model.add(layers.Dense(128, activation='relu'))\n",
    "    model.add(layers.Dense(64, activation='relu'))\n",
    "    model.add(layers.Dense(1, activation='sigmoid'))  # Output layer for binary classification\n",
    "\n",
    "    return model\n",
    "\n",
    "# Specify the input shape based on your data\n",
    "input_shape = (25, 3)  # Assuming each sequence has 25 frames with 3 coordinates (x, y, z)\n",
    "\n",
    "# Build the CNN model\n",
    "model = build_cnn_model(input_shape)\n",
    "\n",
    "# Compile the model\n",
    "model.compile(optimizer='adam',\n",
    "              loss='binary_crossentropy',\n",
    "              metrics=['accuracy'])\n",
    "\n",
    "# Print the model summary\n",
    "model.summary()\n"
   ]
  },
  {
   "cell_type": "code",
   "execution_count": null,
   "metadata": {},
   "outputs": [],
   "source": [
    "# Train the model\n",
    "history = model.fit(X_train, y_train, batch_size=32, epochs=10, validation_data=(X_val, y_val))\n",
    "\n",
    "loss, accuracy = model.evaluate(X_val, y_val)\n",
    "print(\"Validation loss:\", loss)\n",
    "print(\"Validation accuracy:\", accuracy)\n",
    "\n"
   ]
  }
 ],
 "metadata": {
  "kernelspec": {
   "display_name": "pose_estimation",
   "language": "python",
   "name": "python3"
  },
  "language_info": {
   "codemirror_mode": {
    "name": "ipython",
    "version": 3
   },
   "file_extension": ".py",
   "mimetype": "text/x-python",
   "name": "python",
   "nbconvert_exporter": "python",
   "pygments_lexer": "ipython3",
   "version": "3.9.7"
  },
  "orig_nbformat": 4
 },
 "nbformat": 4,
 "nbformat_minor": 2
}
