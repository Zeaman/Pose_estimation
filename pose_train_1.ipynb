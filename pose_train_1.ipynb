{
 "cells": [
  {
   "attachments": {},
   "cell_type": "markdown",
   "metadata": {},
   "source": [
    "## Pose_Estimation"
   ]
  },
  {
   "attachments": {},
   "cell_type": "markdown",
   "metadata": {},
   "source": [
    "### Install requierd libraries"
   ]
  },
  {
   "cell_type": "code",
   "execution_count": null,
   "metadata": {},
   "outputs": [],
   "source": [
    "'''Install requiered dependencies/libraries\n",
    "-pip install numpy\n",
    "-pip install opencv-python\n",
    "-pip install scikit-learn\n",
    "-pip install tensorflow\n",
    "-pip install keras\n",
    "-pip install hmmlearn\n",
    "-pip install matplotlib\n",
    "-pip install matplotlib\n",
    "'''"
   ]
  },
  {
   "attachments": {},
   "cell_type": "markdown",
   "metadata": {},
   "source": [
    "### Import installed and required python libraries"
   ]
  },
  {
   "cell_type": "code",
   "execution_count": 16,
   "metadata": {},
   "outputs": [],
   "source": [
    "#Import requiered  installed libraries\n",
    "import os\n",
    "import json\n",
    "import numpy as np\n",
    "import pandas as pd\n",
    "import tensorflow as tf\n",
    "import matplotlib.pyplot as plt\n",
    "from tensorflow.keras import layers\n",
    "from sklearn.model_selection import train_test_split\n",
    "from sklearn.metrics import accuracy_score\n",
    "from sklearn.preprocessing import LabelEncoder\n",
    "from hmmlearn import hmm\n",
    "from keras.models import Sequential\n",
    "from tensorflow.keras.callbacks import EarlyStopping\n",
    "from tensorflow.keras.layers import Conv1D, MaxPooling1D, Flatten, Dense\n",
    "from keras.layers import Conv2D, MaxPooling2D, Flatten, Dense"
   ]
  },
  {
   "attachments": {},
   "cell_type": "markdown",
   "metadata": {},
   "source": [
    "### 1) Load & Process the dataset"
   ]
  },
  {
   "cell_type": "code",
   "execution_count": 2,
   "metadata": {},
   "outputs": [],
   "source": [
    "# Constants\n",
    "exercise = \"squat\"\n",
    "keypoint_indices = [0, 1, 2, 3, 4, 5, 6, 7, 8, 9, 10, 11, 12, 13, 14, 15, 16, 17, 18, 19, 20, 21, 22, 23, 24]"
   ]
  },
  {
   "cell_type": "code",
   "execution_count": 3,
   "metadata": {},
   "outputs": [
    {
     "name": "stdout",
     "output_type": "stream",
     "text": [
      "Data shape: 20901\n",
      "Labels shape: 20901\n"
     ]
    }
   ],
   "source": [
    "# Process the JSON files and extract pose data\n",
    "def process_json_files(data_dir):\n",
    "    data = []\n",
    "    labels = []\n",
    "\n",
    "    # Iterate over the folders in the data directory\n",
    "    for folder_name in os.listdir(data_dir):\n",
    "        folder_path = os.path.join(data_dir, folder_name)\n",
    "\n",
    "        # Skip non-directory files (e.g., .DS_Store)\n",
    "        if not os.path.isdir(folder_path):\n",
    "            continue\n",
    "\n",
    "        # Determine the label based on whether it's the trainer or trainee folder\n",
    "        if folder_name == \"s08\":\n",
    "            label = \"correct\"\n",
    "        else:\n",
    "            label = \"incorrect\"\n",
    "\n",
    "        # Path to the joints3d_25 folder\n",
    "        joints3d_path = os.path.join(folder_path, \"joints3d_25\")\n",
    "\n",
    "        # Iterate over the files in the joints3d_25 folder\n",
    "        for filename in os.listdir(joints3d_path):\n",
    "            if filename.endswith(\".json\") and filename != \".DS_Store\":\n",
    "                file_path = os.path.join(joints3d_path, filename)\n",
    "\n",
    "                # Open and parse the JSON file\n",
    "                with open(file_path, \"r\") as f:\n",
    "                    json_data = json.load(f)\n",
    "\n",
    "                # Extract skeleton coordinates for each frame\n",
    "                for frame_data in json_data[\"joints3d_25\"]:\n",
    "                    pose_data = []\n",
    "\n",
    "                    # Extract coordinates for each body part\n",
    "                    for part_coords in frame_data:\n",
    "                        pose_data.extend(part_coords)\n",
    "\n",
    "                    # Append the pose data and label to the lists\n",
    "                    data.append(pose_data)\n",
    "                    labels.append(label)\n",
    "\n",
    "    return data, labels\n",
    "\n",
    "# Specify the data directory\n",
    "data_dir = \"D:/AI/pos_estimation/train/train\"\n",
    "\n",
    "# Process the JSON files and extract pose data\n",
    "data, labels = process_json_files(data_dir)\n",
    "\n",
    "# Print the shape of the data and labels\n",
    "print(\"Data shape:\", len(data))\n",
    "print(\"Labels shape:\", len(labels))\n"
   ]
  },
  {
   "cell_type": "code",
   "execution_count": 4,
   "metadata": {},
   "outputs": [],
   "source": [
    "# Process the JSON files and extract pose data\n",
    "data, labels = process_json_files(data_dir)"
   ]
  },
  {
   "cell_type": "code",
   "execution_count": 5,
   "metadata": {},
   "outputs": [],
   "source": [
    "# Encode the labels\n",
    "label_encoder = LabelEncoder()\n",
    "labels_encoded = label_encoder.fit_transform(labels)"
   ]
  },
  {
   "cell_type": "code",
   "execution_count": 6,
   "metadata": {},
   "outputs": [],
   "source": [
    "# Split the data into training and testing sets\n",
    "X_train, X_test, y_train, y_test = train_test_split(data, labels_encoded, test_size=0.2, random_state=42)"
   ]
  },
  {
   "cell_type": "code",
   "execution_count": 7,
   "metadata": {},
   "outputs": [
    {
     "name": "stdout",
     "output_type": "stream",
     "text": [
      "Length of X_train: 16720\n",
      "Length of X_test: 4181\n"
     ]
    }
   ],
   "source": [
    "print(\"Length of X_train:\", len(X_train))\n",
    "print(\"Length of X_test:\", len(X_test))"
   ]
  },
  {
   "cell_type": "code",
   "execution_count": 8,
   "metadata": {},
   "outputs": [],
   "source": [
    "# Convert data to tensors\n",
    "X_train = tf.convert_to_tensor(X_train, dtype=tf.float32)\n",
    "X_test = tf.convert_to_tensor(X_test, dtype=tf.float32)\n",
    "y_train = tf.convert_to_tensor(y_train, dtype=tf.int32)\n",
    "y_test = tf.convert_to_tensor(y_test, dtype=tf.int32)"
   ]
  },
  {
   "cell_type": "code",
   "execution_count": 9,
   "metadata": {},
   "outputs": [],
   "source": [
    "# Reshape the data\n",
    "X_train = tf.reshape(X_train, shape=(-1, 25, 3))\n",
    "X_test = tf.reshape(X_test, shape=(-1, 25, 3))"
   ]
  },
  {
   "cell_type": "code",
   "execution_count": 10,
   "metadata": {},
   "outputs": [],
   "source": [
    "# Normalize the data\n",
    "X_train /= 255.0\n",
    "X_test /= 255.0"
   ]
  },
  {
   "cell_type": "code",
   "execution_count": 49,
   "metadata": {},
   "outputs": [
    {
     "name": "stdout",
     "output_type": "stream",
     "text": [
      "X_train shape: (16720, 25, 3)\n",
      "X_test shape: (4181, 25, 3)\n"
     ]
    }
   ],
   "source": [
    "# Print the shape of train and test data\n",
    "print(\"X_train shape:\", X_train.shape)\n",
    "print(\"X_test shape:\", X_test.shape)"
   ]
  },
  {
   "attachments": {},
   "cell_type": "markdown",
   "metadata": {},
   "source": [
    "### 2) Feature Extraction with CNN"
   ]
  },
  {
   "attachments": {},
   "cell_type": "markdown",
   "metadata": {},
   "source": [
    "1) Model"
   ]
  },
  {
   "cell_type": "code",
   "execution_count": 11,
   "metadata": {},
   "outputs": [],
   "source": [
    "# Build the CNN model\n",
    "model = tf.keras.Sequential([\n",
    "    layers.Conv1D(32, 3, activation='relu', input_shape=(25, 3)),\n",
    "    layers.MaxPooling1D(2),\n",
    "    layers.Conv1D(64, 3, activation='relu'),\n",
    "    layers.MaxPooling1D(2),\n",
    "    layers.Flatten(),\n",
    "    layers.Dense(64, activation='relu'),\n",
    "    layers.Dense(2, activation='softmax')  # For labels/targets we have 2 classes: correct and incorrect\n",
    "])"
   ]
  },
  {
   "cell_type": "code",
   "execution_count": 13,
   "metadata": {},
   "outputs": [
    {
     "name": "stdout",
     "output_type": "stream",
     "text": [
      "Model: \"sequential\"\n",
      "_________________________________________________________________\n",
      " Layer (type)                Output Shape              Param #   \n",
      "=================================================================\n",
      " conv1d (Conv1D)             (None, 23, 32)            320       \n",
      "                                                                 \n",
      " max_pooling1d (MaxPooling1D  (None, 11, 32)           0         \n",
      " )                                                               \n",
      "                                                                 \n",
      " conv1d_1 (Conv1D)           (None, 9, 64)             6208      \n",
      "                                                                 \n",
      " max_pooling1d_1 (MaxPooling  (None, 4, 64)            0         \n",
      " 1D)                                                             \n",
      "                                                                 \n",
      " flatten (Flatten)           (None, 256)               0         \n",
      "                                                                 \n",
      " dense (Dense)               (None, 64)                16448     \n",
      "                                                                 \n",
      " dense_1 (Dense)             (None, 2)                 130       \n",
      "                                                                 \n",
      "=================================================================\n",
      "Total params: 23,106\n",
      "Trainable params: 23,106\n",
      "Non-trainable params: 0\n",
      "_________________________________________________________________\n"
     ]
    }
   ],
   "source": [
    "# Print the model summary\n",
    "model.summary()"
   ]
  },
  {
   "cell_type": "code",
   "execution_count": 17,
   "metadata": {},
   "outputs": [],
   "source": [
    "# Compile the model\n",
    "model.compile(optimizer='adam', loss='sparse_categorical_crossentropy', metrics=['accuracy'])"
   ]
  },
  {
   "cell_type": "code",
   "execution_count": 18,
   "metadata": {},
   "outputs": [
    {
     "name": "stdout",
     "output_type": "stream",
     "text": [
      "Epoch 1/10\n",
      "523/523 [==============================] - 6s 8ms/step - loss: 0.1797 - accuracy: 0.9417 - val_loss: 0.2044 - val_accuracy: 0.9266\n",
      "Epoch 2/10\n",
      "523/523 [==============================] - 4s 7ms/step - loss: 0.1613 - accuracy: 0.9453 - val_loss: 0.1574 - val_accuracy: 0.9366\n",
      "Epoch 3/10\n",
      "523/523 [==============================] - 4s 7ms/step - loss: 0.1394 - accuracy: 0.9511 - val_loss: 0.1286 - val_accuracy: 0.9584\n",
      "Epoch 4/10\n",
      "523/523 [==============================] - 3s 6ms/step - loss: 0.1212 - accuracy: 0.9584 - val_loss: 0.1052 - val_accuracy: 0.9687\n",
      "Epoch 5/10\n",
      "523/523 [==============================] - 3s 6ms/step - loss: 0.1013 - accuracy: 0.9660 - val_loss: 0.0930 - val_accuracy: 0.9687\n",
      "Epoch 6/10\n",
      "523/523 [==============================] - 4s 7ms/step - loss: 0.0882 - accuracy: 0.9733 - val_loss: 0.0860 - val_accuracy: 0.9720\n",
      "Epoch 7/10\n",
      "523/523 [==============================] - 6s 11ms/step - loss: 0.0673 - accuracy: 0.9796 - val_loss: 0.0611 - val_accuracy: 0.9892\n",
      "Epoch 8/10\n",
      "523/523 [==============================] - 5s 9ms/step - loss: 0.0514 - accuracy: 0.9852 - val_loss: 0.0438 - val_accuracy: 0.9883\n",
      "Epoch 9/10\n",
      "523/523 [==============================] - 7s 14ms/step - loss: 0.0448 - accuracy: 0.9876 - val_loss: 0.0331 - val_accuracy: 0.9931\n",
      "Epoch 10/10\n",
      "523/523 [==============================] - 4s 8ms/step - loss: 0.0324 - accuracy: 0.9921 - val_loss: 0.0551 - val_accuracy: 0.9782\n"
     ]
    }
   ],
   "source": [
    "# Train the model and store the training history\n",
    "history = model.fit(X_train, y_train, epochs=10, batch_size=32, validation_data=(X_test, y_test))"
   ]
  },
  {
   "attachments": {},
   "cell_type": "markdown",
   "metadata": {},
   "source": [
    "#### Plot the training results"
   ]
  },
  {
   "cell_type": "code",
   "execution_count": 19,
   "metadata": {},
   "outputs": [],
   "source": [
    "# Get the training and validation metrics from the history\n",
    "train_accuracy = history.history['accuracy']\n",
    "val_accuracy = history.history['val_accuracy']\n",
    "train_loss = history.history['loss']\n",
    "val_loss = history.history['val_loss']"
   ]
  },
  {
   "cell_type": "code",
   "execution_count": 20,
   "metadata": {},
   "outputs": [
    {
     "data": {
      "image/png": "[encoded data removed]",
      "text/plain": [
       "<Figure size 640x480 with 1 Axes>"
      ]
     },
     "metadata": {},
     "output_type": "display_data"
    }
   ],
   "source": [
    "# Plot the training and validation accuracy\n",
    "plt.plot(train_accuracy, label='Training Accuracy')\n",
    "plt.plot(val_accuracy, label='Validation Accuracy')\n",
    "plt.xlabel('Epoch')\n",
    "plt.ylabel('Accuracy')\n",
    "plt.legend()\n",
    "plt.show()"
   ]
  },
  {
   "cell_type": "code",
   "execution_count": 21,
   "metadata": {},
   "outputs": [
    {
     "data": {
      "image/png": "[encoded data removed]",
      "text/plain": [
       "<Figure size 640x480 with 1 Axes>"
      ]
     },
     "metadata": {},
     "output_type": "display_data"
    }
   ],
   "source": [
    "# Plot the training and validation loss\n",
    "plt.plot(train_loss, label='Training Loss')\n",
    "plt.plot(val_loss, label='Validation Loss')\n",
    "plt.xlabel('Epoch')\n",
    "plt.ylabel('Loss')\n",
    "plt.legend()\n",
    "plt.show()"
   ]
  },
  {
   "attachments": {},
   "cell_type": "markdown",
   "metadata": {},
   "source": [
    "#### Save the best model"
   ]
  },
  {
   "cell_type": "code",
   "execution_count": 22,
   "metadata": {},
   "outputs": [
    {
     "name": "stderr",
     "output_type": "stream",
     "text": [
      "WARNING:absl:Found untraced functions such as _jit_compiled_convolution_op, _jit_compiled_convolution_op, _update_step_xla while saving (showing 3 of 3). These functions will not be directly callable after loading.\n"
     ]
    },
    {
     "name": "stdout",
     "output_type": "stream",
     "text": [
      "INFO:tensorflow:Assets written to: D:/AI/pos_estimation/best_models/one\\assets\n"
     ]
    },
    {
     "name": "stderr",
     "output_type": "stream",
     "text": [
      "INFO:tensorflow:Assets written to: D:/AI/pos_estimation/best_models/one\\assets\n"
     ]
    }
   ],
   "source": [
    "# Specify the path to save the model\n",
    "path_to_save_model = \"D:/AI/pos_estimation/best_models/one\"\n",
    "\n",
    "# Save the model\n",
    "model.save(path_to_save_model)"
   ]
  },
  {
   "attachments": {},
   "cell_type": "markdown",
   "metadata": {},
   "source": [
    "#### Test the above model"
   ]
  },
  {
   "cell_type": "code",
   "execution_count": 23,
   "metadata": {},
   "outputs": [
    {
     "name": "stdout",
     "output_type": "stream",
     "text": [
      "Number of frames: 1736\n"
     ]
    },
    {
     "ename": "OSError",
     "evalue": "Unable to open file (file signature not found)",
     "output_type": "error",
     "traceback": [
      "\u001b[1;31m---------------------------------------------------------------------------\u001b[0m",
      "\u001b[1;31mOSError\u001b[0m                                   Traceback (most recent call last)",
      "Cell \u001b[1;32mIn[23], line 37\u001b[0m\n\u001b[0;32m     34\u001b[0m test_data \u001b[39m/\u001b[39m\u001b[39m=\u001b[39m \u001b[39m255.0\u001b[39m\n\u001b[0;32m     36\u001b[0m \u001b[39m# Load the trained model\u001b[39;00m\n\u001b[1;32m---> 37\u001b[0m model \u001b[39m=\u001b[39m tf\u001b[39m.\u001b[39;49mkeras\u001b[39m.\u001b[39;49mmodels\u001b[39m.\u001b[39;49mload_model(\u001b[39m'\u001b[39;49m\u001b[39mD:/AI/pos_estimation/best_models/one/saved_model.pb\u001b[39;49m\u001b[39m'\u001b[39;49m)  \u001b[39m# Replace 'path_to_saved_model' with the actual path\u001b[39;00m\n\u001b[0;32m     39\u001b[0m \u001b[39m# Test the model\u001b[39;00m\n\u001b[0;32m     40\u001b[0m predictions \u001b[39m=\u001b[39m model\u001b[39m.\u001b[39mpredict(test_data)\n",
      "File \u001b[1;32md:\\AI\\pos_estimation\\pose_estimation\\lib\\site-packages\\keras\\saving\\saving_api.py:212\u001b[0m, in \u001b[0;36mload_model\u001b[1;34m(filepath, custom_objects, compile, safe_mode, **kwargs)\u001b[0m\n\u001b[0;32m    204\u001b[0m     \u001b[39mreturn\u001b[39;00m saving_lib\u001b[39m.\u001b[39mload_model(\n\u001b[0;32m    205\u001b[0m         filepath,\n\u001b[0;32m    206\u001b[0m         custom_objects\u001b[39m=\u001b[39mcustom_objects,\n\u001b[0;32m    207\u001b[0m         \u001b[39mcompile\u001b[39m\u001b[39m=\u001b[39m\u001b[39mcompile\u001b[39m,\n\u001b[0;32m    208\u001b[0m         safe_mode\u001b[39m=\u001b[39msafe_mode,\n\u001b[0;32m    209\u001b[0m     )\n\u001b[0;32m    211\u001b[0m \u001b[39m# Legacy case.\u001b[39;00m\n\u001b[1;32m--> 212\u001b[0m \u001b[39mreturn\u001b[39;00m legacy_sm_saving_lib\u001b[39m.\u001b[39mload_model(\n\u001b[0;32m    213\u001b[0m     filepath, custom_objects\u001b[39m=\u001b[39mcustom_objects, \u001b[39mcompile\u001b[39m\u001b[39m=\u001b[39m\u001b[39mcompile\u001b[39m, \u001b[39m*\u001b[39m\u001b[39m*\u001b[39mkwargs\n\u001b[0;32m    214\u001b[0m )\n",
      "File \u001b[1;32md:\\AI\\pos_estimation\\pose_estimation\\lib\\site-packages\\keras\\utils\\traceback_utils.py:70\u001b[0m, in \u001b[0;36mfilter_traceback.<locals>.error_handler\u001b[1;34m(*args, **kwargs)\u001b[0m\n\u001b[0;32m     67\u001b[0m     filtered_tb \u001b[39m=\u001b[39m _process_traceback_frames(e\u001b[39m.\u001b[39m__traceback__)\n\u001b[0;32m     68\u001b[0m     \u001b[39m# To get the full stack trace, call:\u001b[39;00m\n\u001b[0;32m     69\u001b[0m     \u001b[39m# `tf.debugging.disable_traceback_filtering()`\u001b[39;00m\n\u001b[1;32m---> 70\u001b[0m     \u001b[39mraise\u001b[39;00m e\u001b[39m.\u001b[39mwith_traceback(filtered_tb) \u001b[39mfrom\u001b[39;00m \u001b[39mNone\u001b[39;00m\n\u001b[0;32m     71\u001b[0m \u001b[39mfinally\u001b[39;00m:\n\u001b[0;32m     72\u001b[0m     \u001b[39mdel\u001b[39;00m filtered_tb\n",
      "File \u001b[1;32md:\\AI\\pos_estimation\\pose_estimation\\lib\\site-packages\\h5py\\_hl\\files.py:567\u001b[0m, in \u001b[0;36mFile.__init__\u001b[1;34m(self, name, mode, driver, libver, userblock_size, swmr, rdcc_nslots, rdcc_nbytes, rdcc_w0, track_order, fs_strategy, fs_persist, fs_threshold, fs_page_size, page_buf_size, min_meta_keep, min_raw_keep, locking, alignment_threshold, alignment_interval, meta_block_size, **kwds)\u001b[0m\n\u001b[0;32m    558\u001b[0m     fapl \u001b[39m=\u001b[39m make_fapl(driver, libver, rdcc_nslots, rdcc_nbytes, rdcc_w0,\n\u001b[0;32m    559\u001b[0m                      locking, page_buf_size, min_meta_keep, min_raw_keep,\n\u001b[0;32m    560\u001b[0m                      alignment_threshold\u001b[39m=\u001b[39malignment_threshold,\n\u001b[0;32m    561\u001b[0m                      alignment_interval\u001b[39m=\u001b[39malignment_interval,\n\u001b[0;32m    562\u001b[0m                      meta_block_size\u001b[39m=\u001b[39mmeta_block_size,\n\u001b[0;32m    563\u001b[0m                      \u001b[39m*\u001b[39m\u001b[39m*\u001b[39mkwds)\n\u001b[0;32m    564\u001b[0m     fcpl \u001b[39m=\u001b[39m make_fcpl(track_order\u001b[39m=\u001b[39mtrack_order, fs_strategy\u001b[39m=\u001b[39mfs_strategy,\n\u001b[0;32m    565\u001b[0m                      fs_persist\u001b[39m=\u001b[39mfs_persist, fs_threshold\u001b[39m=\u001b[39mfs_threshold,\n\u001b[0;32m    566\u001b[0m                      fs_page_size\u001b[39m=\u001b[39mfs_page_size)\n\u001b[1;32m--> 567\u001b[0m     fid \u001b[39m=\u001b[39m make_fid(name, mode, userblock_size, fapl, fcpl, swmr\u001b[39m=\u001b[39mswmr)\n\u001b[0;32m    569\u001b[0m \u001b[39mif\u001b[39;00m \u001b[39misinstance\u001b[39m(libver, \u001b[39mtuple\u001b[39m):\n\u001b[0;32m    570\u001b[0m     \u001b[39mself\u001b[39m\u001b[39m.\u001b[39m_libver \u001b[39m=\u001b[39m libver\n",
      "File \u001b[1;32md:\\AI\\pos_estimation\\pose_estimation\\lib\\site-packages\\h5py\\_hl\\files.py:231\u001b[0m, in \u001b[0;36mmake_fid\u001b[1;34m(name, mode, userblock_size, fapl, fcpl, swmr)\u001b[0m\n\u001b[0;32m    229\u001b[0m     \u001b[39mif\u001b[39;00m swmr \u001b[39mand\u001b[39;00m swmr_support:\n\u001b[0;32m    230\u001b[0m         flags \u001b[39m|\u001b[39m\u001b[39m=\u001b[39m h5f\u001b[39m.\u001b[39mACC_SWMR_READ\n\u001b[1;32m--> 231\u001b[0m     fid \u001b[39m=\u001b[39m h5f\u001b[39m.\u001b[39;49mopen(name, flags, fapl\u001b[39m=\u001b[39;49mfapl)\n\u001b[0;32m    232\u001b[0m \u001b[39melif\u001b[39;00m mode \u001b[39m==\u001b[39m \u001b[39m'\u001b[39m\u001b[39mr+\u001b[39m\u001b[39m'\u001b[39m:\n\u001b[0;32m    233\u001b[0m     fid \u001b[39m=\u001b[39m h5f\u001b[39m.\u001b[39mopen(name, h5f\u001b[39m.\u001b[39mACC_RDWR, fapl\u001b[39m=\u001b[39mfapl)\n",
      "File \u001b[1;32mh5py\\_objects.pyx:54\u001b[0m, in \u001b[0;36mh5py._objects.with_phil.wrapper\u001b[1;34m()\u001b[0m\n",
      "File \u001b[1;32mh5py\\_objects.pyx:55\u001b[0m, in \u001b[0;36mh5py._objects.with_phil.wrapper\u001b[1;34m()\u001b[0m\n",
      "File \u001b[1;32mh5py\\h5f.pyx:106\u001b[0m, in \u001b[0;36mh5py.h5f.open\u001b[1;34m()\u001b[0m\n",
      "\u001b[1;31mOSError\u001b[0m: Unable to open file (file signature not found)"
     ]
    }
   ],
   "source": [
    "import cv2\n",
    "import numpy as np\n",
    "import tensorflow as tf\n",
    "\n",
    "# Load the test video and extract frames\n",
    "video_path = \"D:/AI/pos_estimation/test/test/s02/videos/squat.mp4\"  # Replace with the actual path to the test video\n",
    "#path_to_saved_model = \"\"\n",
    "\n",
    "cap = cv2.VideoCapture(video_path)\n",
    "if not cap.isOpened():\n",
    "    print(\"Error opening video file:\", video_path)\n",
    "    exit()\n",
    "\n",
    "frames = []\n",
    "while True:\n",
    "    ret, frame = cap.read()\n",
    "    if not ret:\n",
    "        break\n",
    "    frames.append(frame)\n",
    "\n",
    "cap.release()\n",
    "\n",
    "print(\"Number of frames:\", len(frames))\n",
    "\n",
    "# Process the frames and extract pose data\n",
    "pose_data = []\n",
    "# ... code for pose estimation on each frame ...\n",
    "# Assuming you have a list of pose keypoints for each frame and stored in 'pose_data'\n",
    "\n",
    "# Prepare the test data\n",
    "test_data = np.array(pose_data)\n",
    "test_data = tf.convert_to_tensor(test_data, dtype=tf.float32)\n",
    "test_data = tf.reshape(test_data, shape=(-1, 25, 3))\n",
    "test_data /= 255.0\n",
    "\n",
    "# Load the trained model\n",
    "model = tf.keras.models.load_model('D:/AI/pos_estimation/best_models/one/saved_model.pb')  # Replace 'path_to_saved_model' with the actual path\n",
    "\n",
    "# Test the model\n",
    "predictions = model.predict(test_data)\n",
    "predicted_labels = np.argmax(predictions, axis=1)\n",
    "\n",
    "# Print the predicted labels or perform further analysis\n",
    "print(predicted_labels)\n"
   ]
  },
  {
   "attachments": {},
   "cell_type": "markdown",
   "metadata": {},
   "source": [
    "### Other model"
   ]
  },
  {
   "cell_type": "code",
   "execution_count": 31,
   "metadata": {},
   "outputs": [
    {
     "name": "stdout",
     "output_type": "stream",
     "text": [
      "Epoch 1/10\n",
      "523/523 [==============================] - 6s 7ms/step - loss: 0.3732 - accuracy: 0.8902 - val_loss: 0.3576 - val_accuracy: 0.8852\n",
      "Epoch 2/10\n",
      "523/523 [==============================] - 3s 6ms/step - loss: 0.3432 - accuracy: 0.8916 - val_loss: 0.3549 - val_accuracy: 0.8852\n",
      "Epoch 3/10\n",
      "523/523 [==============================] - 3s 5ms/step - loss: 0.3372 - accuracy: 0.8916 - val_loss: 0.3566 - val_accuracy: 0.8852\n",
      "Epoch 4/10\n",
      "523/523 [==============================] - 3s 5ms/step - loss: 0.3026 - accuracy: 0.8942 - val_loss: 0.2673 - val_accuracy: 0.8974\n",
      "Epoch 5/10\n",
      "523/523 [==============================] - 3s 7ms/step - loss: 0.2489 - accuracy: 0.9233 - val_loss: 0.2436 - val_accuracy: 0.9273\n",
      "Epoch 6/10\n",
      "523/523 [==============================] - 3s 5ms/step - loss: 0.2315 - accuracy: 0.9294 - val_loss: 0.2299 - val_accuracy: 0.9323\n",
      "Epoch 7/10\n",
      "523/523 [==============================] - 3s 5ms/step - loss: 0.2204 - accuracy: 0.9328 - val_loss: 0.2219 - val_accuracy: 0.9357\n",
      "Epoch 8/10\n",
      "523/523 [==============================] - 3s 5ms/step - loss: 0.2083 - accuracy: 0.9366 - val_loss: 0.2121 - val_accuracy: 0.9371\n",
      "Epoch 9/10\n",
      "523/523 [==============================] - 4s 7ms/step - loss: 0.2076 - accuracy: 0.9370 - val_loss: 0.2060 - val_accuracy: 0.9383\n",
      "Epoch 10/10\n",
      "523/523 [==============================] - 2s 4ms/step - loss: 0.1988 - accuracy: 0.9400 - val_loss: 0.1963 - val_accuracy: 0.9414\n"
     ]
    },
    {
     "data": {
      "text/plain": [
       "<keras.callbacks.History at 0x2219d2406d0>"
      ]
     },
     "execution_count": 31,
     "metadata": {},
     "output_type": "execute_result"
    }
   ],
   "source": [
    "# Constants\n",
    "exercise = \"squat\"\n",
    "keypoint_indices = [0, 1, 2, 3, 4, 5, 6, 7, 8, 9, 10, 11, 12, 13, 14, 15, 16, 17, 18, 19, 20, 21, 22, 23, 24]\n",
    "\n",
    "# Process the JSON files and extract pose data\n",
    "def process_json_files(data_dir):\n",
    "    data = []\n",
    "    labels = []\n",
    "\n",
    "    # Iterate over the folders in the data directory\n",
    "    for folder_name in os.listdir(data_dir):\n",
    "        folder_path = os.path.join(data_dir, folder_name)\n",
    "\n",
    "        # Skip non-directory files (e.g., .DS_Store)\n",
    "        if not os.path.isdir(folder_path):\n",
    "            continue\n",
    "\n",
    "        # Determine the label based on whether it's the trainer or trainee folder\n",
    "        if folder_name == \"s08\":\n",
    "            label = \"correct\"\n",
    "        else:\n",
    "            label = \"incorrect\"\n",
    "\n",
    "        # Path to the joints3d_25 folder\n",
    "        joints3d_path = os.path.join(folder_path, \"joints3d_25\")\n",
    "\n",
    "        # Iterate over the files in the joints3d_25 folder\n",
    "        for filename in os.listdir(joints3d_path):\n",
    "            if filename.endswith(\".json\") and filename != \".DS_Store\":\n",
    "                file_path = os.path.join(joints3d_path, filename)\n",
    "\n",
    "                # Open and parse the JSON file\n",
    "                with open(file_path, \"r\") as f:\n",
    "                    json_data = json.load(f)\n",
    "\n",
    "                # Extract skeleton coordinates for each frame\n",
    "                for frame_data in json_data[\"joints3d_25\"]:\n",
    "                    pose_data = []\n",
    "\n",
    "                    # Extract coordinates for each body part\n",
    "                    for index in keypoint_indices:\n",
    "                        part_coords = frame_data[index]\n",
    "                        pose_data.extend(part_coords)\n",
    "\n",
    "                    # Append the pose data and label to the lists\n",
    "                    data.append(pose_data)\n",
    "                    labels.append(label)\n",
    "\n",
    "    return data, labels\n",
    "\n",
    "# Specify the data directory\n",
    "data_dir = \"D:/AI/pos_estimation/train/train\"\n",
    "\n",
    "# Process the JSON files and extract pose data\n",
    "data, labels = process_json_files(data_dir)\n",
    "\n",
    "# Encode the labels\n",
    "label_encoder = LabelEncoder()\n",
    "labels_encoded = label_encoder.fit_transform(labels)\n",
    "\n",
    "# Split the data into training and testing sets\n",
    "X_train, X_test, y_train, y_test = train_test_split(data, labels_encoded, test_size=0.2, random_state=42)\n",
    "\n",
    "# Convert data to tensors\n",
    "X_train = tf.convert_to_tensor(X_train, dtype=tf.float32)\n",
    "X_test = tf.convert_to_tensor(X_test, dtype=tf.float32)\n",
    "y_train = tf.convert_to_tensor(y_train, dtype=tf.int32)\n",
    "y_test = tf.convert_to_tensor(y_test, dtype=tf.int32)\n",
    "\n",
    "# Reshape the data\n",
    "X_train = tf.reshape(X_train, shape=(-1, 25, 3))\n",
    "X_test = tf.reshape(X_test, shape=(-1, 25, 3))\n",
    "\n",
    "# Normalize the data\n",
    "X_train /= 255.0\n",
    "X_test /= 255.0\n",
    "\n",
    "# CNN Model\n",
    "cnn_model = tf.keras.Sequential([\n",
    "    layers.Conv1D(32, 3, activation='relu', input_shape=(25, 3)),\n",
    "    layers.MaxPooling1D(2),\n",
    "    layers.Conv1D(64, 3, activation='relu'),\n",
    "    layers.MaxPooling1D(2),\n",
    "    layers.Flatten(),\n",
    "    layers.Dense(64, activation='relu'),\n",
    "    layers.Dense(3, activation='softmax')  # 3 classes: correct, incorrect, almost correct\n",
    "])\n",
    "\n",
    "cnn_model.compile(optimizer='adam', loss='sparse_categorical_crossentropy', metrics=['accuracy'])\n",
    "cnn_model.fit(X_train, y_train, epochs=10, batch_size=32, validation_data=(X_test, y_test))"
   ]
  },
  {
   "attachments": {},
   "cell_type": "markdown",
   "metadata": {},
   "source": [
    "                                        **********************************"
   ]
  },
  {
   "attachments": {},
   "cell_type": "markdown",
   "metadata": {},
   "source": [
    "### HMM Model"
   ]
  },
  {
   "attachments": {},
   "cell_type": "markdown",
   "metadata": {},
   "source": [
    "#### Try-1"
   ]
  },
  {
   "cell_type": "code",
   "execution_count": null,
   "metadata": {},
   "outputs": [],
   "source": [
    "# Extract features from the trained CNN model\n",
    "train_features = cnn_model.predict(X_train)\n",
    "test_features = cnn_model.predict(X_test)\n",
    "\n",
    "# Organize features into sequences for each repetition of the exercise\n",
    "exercise_sequences_train = []\n",
    "exercise_sequences_test = []\n",
    "\n",
    "# Create sequence for training set\n",
    "current_sequence = []\n",
    "current_label = y_train[0]\n",
    "for i in range(len(train_features)):\n",
    "    if y_train[i] == current_label:\n",
    "        current_sequence.append(train_features[i])\n",
    "    else:\n",
    "        exercise_sequences_train.append(current_sequence)\n",
    "        current_sequence = [train_features[i]]\n",
    "        current_label = y_train[i]\n",
    "exercise_sequences_train.append(current_sequence)\n",
    "\n",
    "# Create sequence for test set\n",
    "current_sequence = []\n",
    "current_label = y_test[0]\n",
    "for i in range(len(test_features)):\n",
    "    if y_test[i] == current_label:\n",
    "        current_sequence.append(test_features[i])\n",
    "    else:\n",
    "        exercise_sequences_test.append(current_sequence)\n",
    "        current_sequence = [test_features[i]]\n",
    "        current_label = y_test[i]\n",
    "exercise_sequences_test.append(current_sequence)\n",
    "\n",
    "# Train an HMM model on the feature sequences\n",
    "num_states = 3  # Specify the desired number of HMM states\n",
    "\n",
    "hmm_model = hmm.GaussianHMM(n_components=num_states, covariance_type=\"diag\", n_iter=100)\n",
    "for sequence in exercise_sequences_train:\n",
    "    hmm_model.fit(sequence)\n",
    "\n",
    "# Evaluate the trained HMM model on the test set and calculate performance metrics\n",
    "predicted_labels = []\n",
    "for sequence in exercise_sequences_test:\n",
    "    sequence_likelihoods = []\n",
    "    for state in range(num_states):\n",
    "        log_likelihood = hmm_model.score(sequence)\n",
    "        sequence_likelihoods.append(log_likelihood)\n",
    "    predicted_label = np.argmax(sequence_likelihoods)\n",
    "    predicted_labels.append(predicted_label)\n",
    "\n",
    "accuracy = accuracy_score(y_test, predicted_labels)\n",
    "print(\"Accuracy:\", accuracy)\n"
   ]
  },
  {
   "attachments": {},
   "cell_type": "markdown",
   "metadata": {},
   "source": [
    "#### Try-2"
   ]
  },
  {
   "cell_type": "code",
   "execution_count": 19,
   "metadata": {},
   "outputs": [
    {
     "name": "stdout",
     "output_type": "stream",
     "text": [
      "523/523 [==============================] - 3s 5ms/step\n",
      "131/131 [==============================] - 1s 5ms/step\n"
     ]
    },
    {
     "name": "stderr",
     "output_type": "stream",
     "text": [
      "Model is not converging.  Current: 55.6733104794739 is not greater than 62.73782106764467. Delta is -7.064510588170769\n",
      "Even though the 'startprob_' attribute is set, it will be overwritten during initialization because 'init_params' contains 's'\n",
      "Even though the 'transmat_' attribute is set, it will be overwritten during initialization because 'init_params' contains 't'\n",
      "Fitting a model with 26 free scalar parameters with only 3 data points will result in a degenerate solution.\n",
      "Even though the 'means_' attribute is set, it will be overwritten during initialization because 'init_params' contains 'm'\n"
     ]
    },
    {
     "ename": "ValueError",
     "evalue": "n_samples=1 should be >= n_clusters=3.",
     "output_type": "error",
     "traceback": [
      "\u001b[1;31m---------------------------------------------------------------------------\u001b[0m",
      "\u001b[1;31mValueError\u001b[0m                                Traceback (most recent call last)",
      "Cell \u001b[1;32mIn[19], line 38\u001b[0m\n\u001b[0;32m     36\u001b[0m hmm_model \u001b[39m=\u001b[39m hmm\u001b[39m.\u001b[39mGaussianHMM(n_components\u001b[39m=\u001b[39mnum_states, covariance_type\u001b[39m=\u001b[39m\u001b[39m\"\u001b[39m\u001b[39mdiag\u001b[39m\u001b[39m\"\u001b[39m, n_iter\u001b[39m=\u001b[39m\u001b[39m100\u001b[39m)\n\u001b[0;32m     37\u001b[0m \u001b[39mfor\u001b[39;00m sequence \u001b[39min\u001b[39;00m exercise_sequences_train:\n\u001b[1;32m---> 38\u001b[0m     hmm_model\u001b[39m.\u001b[39;49mfit(sequence)\n\u001b[0;32m     40\u001b[0m \u001b[39m# Evaluate the trained HMM model on the test set and calculate performance metrics\u001b[39;00m\n\u001b[0;32m     41\u001b[0m predicted_labels \u001b[39m=\u001b[39m []\n",
      "File \u001b[1;32md:\\AI\\pos_estimation\\pose_estimation\\lib\\site-packages\\hmmlearn\\base.py:468\u001b[0m, in \u001b[0;36m_AbstractHMM.fit\u001b[1;34m(self, X, lengths)\u001b[0m\n\u001b[0;32m    465\u001b[0m \u001b[39mif\u001b[39;00m lengths \u001b[39mis\u001b[39;00m \u001b[39mNone\u001b[39;00m:\n\u001b[0;32m    466\u001b[0m     lengths \u001b[39m=\u001b[39m np\u001b[39m.\u001b[39masarray([X\u001b[39m.\u001b[39mshape[\u001b[39m0\u001b[39m]])\n\u001b[1;32m--> 468\u001b[0m \u001b[39mself\u001b[39;49m\u001b[39m.\u001b[39;49m_init(X, lengths)\n\u001b[0;32m    469\u001b[0m \u001b[39mself\u001b[39m\u001b[39m.\u001b[39m_check()\n\u001b[0;32m    470\u001b[0m \u001b[39mself\u001b[39m\u001b[39m.\u001b[39mmonitor_\u001b[39m.\u001b[39m_reset()\n",
      "File \u001b[1;32md:\\AI\\pos_estimation\\pose_estimation\\lib\\site-packages\\hmmlearn\\hmm.py:302\u001b[0m, in \u001b[0;36mGaussianHMM._init\u001b[1;34m(self, X, lengths)\u001b[0m\n\u001b[0;32m    298\u001b[0m \u001b[39mif\u001b[39;00m \u001b[39mself\u001b[39m\u001b[39m.\u001b[39m_needs_init(\u001b[39m\"\u001b[39m\u001b[39mm\u001b[39m\u001b[39m\"\u001b[39m, \u001b[39m\"\u001b[39m\u001b[39mmeans_\u001b[39m\u001b[39m\"\u001b[39m):\n\u001b[0;32m    299\u001b[0m     kmeans \u001b[39m=\u001b[39m cluster\u001b[39m.\u001b[39mKMeans(n_clusters\u001b[39m=\u001b[39m\u001b[39mself\u001b[39m\u001b[39m.\u001b[39mn_components,\n\u001b[0;32m    300\u001b[0m                             random_state\u001b[39m=\u001b[39m\u001b[39mself\u001b[39m\u001b[39m.\u001b[39mrandom_state,\n\u001b[0;32m    301\u001b[0m                             n_init\u001b[39m=\u001b[39m\u001b[39m1\u001b[39m)  \u001b[39m# sklearn <1.4 backcompat.\u001b[39;00m\n\u001b[1;32m--> 302\u001b[0m     kmeans\u001b[39m.\u001b[39;49mfit(X)\n\u001b[0;32m    303\u001b[0m     \u001b[39mself\u001b[39m\u001b[39m.\u001b[39mmeans_ \u001b[39m=\u001b[39m kmeans\u001b[39m.\u001b[39mcluster_centers_\n\u001b[0;32m    304\u001b[0m \u001b[39mif\u001b[39;00m \u001b[39mself\u001b[39m\u001b[39m.\u001b[39m_needs_init(\u001b[39m\"\u001b[39m\u001b[39mc\u001b[39m\u001b[39m\"\u001b[39m, \u001b[39m\"\u001b[39m\u001b[39mcovars_\u001b[39m\u001b[39m\"\u001b[39m):\n",
      "File \u001b[1;32md:\\AI\\pos_estimation\\pose_estimation\\lib\\site-packages\\sklearn\\cluster\\_kmeans.py:1426\u001b[0m, in \u001b[0;36mKMeans.fit\u001b[1;34m(self, X, y, sample_weight)\u001b[0m\n\u001b[0;32m   1415\u001b[0m \u001b[39mself\u001b[39m\u001b[39m.\u001b[39m_validate_params()\n\u001b[0;32m   1417\u001b[0m X \u001b[39m=\u001b[39m \u001b[39mself\u001b[39m\u001b[39m.\u001b[39m_validate_data(\n\u001b[0;32m   1418\u001b[0m     X,\n\u001b[0;32m   1419\u001b[0m     accept_sparse\u001b[39m=\u001b[39m\u001b[39m\"\u001b[39m\u001b[39mcsr\u001b[39m\u001b[39m\"\u001b[39m,\n\u001b[1;32m   (...)\u001b[0m\n\u001b[0;32m   1423\u001b[0m     accept_large_sparse\u001b[39m=\u001b[39m\u001b[39mFalse\u001b[39;00m,\n\u001b[0;32m   1424\u001b[0m )\n\u001b[1;32m-> 1426\u001b[0m \u001b[39mself\u001b[39;49m\u001b[39m.\u001b[39;49m_check_params_vs_input(X)\n\u001b[0;32m   1428\u001b[0m random_state \u001b[39m=\u001b[39m check_random_state(\u001b[39mself\u001b[39m\u001b[39m.\u001b[39mrandom_state)\n\u001b[0;32m   1429\u001b[0m sample_weight \u001b[39m=\u001b[39m _check_sample_weight(sample_weight, X, dtype\u001b[39m=\u001b[39mX\u001b[39m.\u001b[39mdtype)\n",
      "File \u001b[1;32md:\\AI\\pos_estimation\\pose_estimation\\lib\\site-packages\\sklearn\\cluster\\_kmeans.py:1362\u001b[0m, in \u001b[0;36mKMeans._check_params_vs_input\u001b[1;34m(self, X)\u001b[0m\n\u001b[0;32m   1361\u001b[0m \u001b[39mdef\u001b[39;00m \u001b[39m_check_params_vs_input\u001b[39m(\u001b[39mself\u001b[39m, X):\n\u001b[1;32m-> 1362\u001b[0m     \u001b[39msuper\u001b[39;49m()\u001b[39m.\u001b[39;49m_check_params_vs_input(X, default_n_init\u001b[39m=\u001b[39;49m\u001b[39m10\u001b[39;49m)\n\u001b[0;32m   1364\u001b[0m     \u001b[39mself\u001b[39m\u001b[39m.\u001b[39m_algorithm \u001b[39m=\u001b[39m \u001b[39mself\u001b[39m\u001b[39m.\u001b[39malgorithm\n\u001b[0;32m   1365\u001b[0m     \u001b[39mif\u001b[39;00m \u001b[39mself\u001b[39m\u001b[39m.\u001b[39m_algorithm \u001b[39min\u001b[39;00m (\u001b[39m\"\u001b[39m\u001b[39mauto\u001b[39m\u001b[39m\"\u001b[39m, \u001b[39m\"\u001b[39m\u001b[39mfull\u001b[39m\u001b[39m\"\u001b[39m):\n",
      "File \u001b[1;32md:\\AI\\pos_estimation\\pose_estimation\\lib\\site-packages\\sklearn\\cluster\\_kmeans.py:859\u001b[0m, in \u001b[0;36m_BaseKMeans._check_params_vs_input\u001b[1;34m(self, X, default_n_init)\u001b[0m\n\u001b[0;32m    856\u001b[0m \u001b[39mdef\u001b[39;00m \u001b[39m_check_params_vs_input\u001b[39m(\u001b[39mself\u001b[39m, X, default_n_init\u001b[39m=\u001b[39m\u001b[39mNone\u001b[39;00m):\n\u001b[0;32m    857\u001b[0m     \u001b[39m# n_clusters\u001b[39;00m\n\u001b[0;32m    858\u001b[0m     \u001b[39mif\u001b[39;00m X\u001b[39m.\u001b[39mshape[\u001b[39m0\u001b[39m] \u001b[39m<\u001b[39m \u001b[39mself\u001b[39m\u001b[39m.\u001b[39mn_clusters:\n\u001b[1;32m--> 859\u001b[0m         \u001b[39mraise\u001b[39;00m \u001b[39mValueError\u001b[39;00m(\n\u001b[0;32m    860\u001b[0m             \u001b[39mf\u001b[39m\u001b[39m\"\u001b[39m\u001b[39mn_samples=\u001b[39m\u001b[39m{\u001b[39;00mX\u001b[39m.\u001b[39mshape[\u001b[39m0\u001b[39m]\u001b[39m}\u001b[39;00m\u001b[39m should be >= n_clusters=\u001b[39m\u001b[39m{\u001b[39;00m\u001b[39mself\u001b[39m\u001b[39m.\u001b[39mn_clusters\u001b[39m}\u001b[39;00m\u001b[39m.\u001b[39m\u001b[39m\"\u001b[39m\n\u001b[0;32m    861\u001b[0m         )\n\u001b[0;32m    863\u001b[0m     \u001b[39m# tol\u001b[39;00m\n\u001b[0;32m    864\u001b[0m     \u001b[39mself\u001b[39m\u001b[39m.\u001b[39m_tol \u001b[39m=\u001b[39m _tolerance(X, \u001b[39mself\u001b[39m\u001b[39m.\u001b[39mtol)\n",
      "\u001b[1;31mValueError\u001b[0m: n_samples=1 should be >= n_clusters=3."
     ]
    }
   ],
   "source": [
    "# Extract features from the trained CNN model\n",
    "train_features = cnn_model.predict(X_train)\n",
    "test_features = cnn_model.predict(X_test)\n",
    "\n",
    "# Organize features into sequences for each repetition of the exercise\n",
    "exercise_sequences_train = []\n",
    "exercise_sequences_test = []\n",
    "\n",
    "# Create sequence for training set\n",
    "current_sequence = []\n",
    "current_label = y_train[0]\n",
    "for i in range(len(train_features)):\n",
    "    if y_train[i] == current_label:\n",
    "        current_sequence.append(train_features[i])\n",
    "    else:\n",
    "        exercise_sequences_train.append(current_sequence)\n",
    "        current_sequence = [train_features[i]]\n",
    "        current_label = y_train[i]\n",
    "exercise_sequences_train.append(current_sequence)\n",
    "\n",
    "# Create sequence for test set\n",
    "current_sequence = []\n",
    "current_label = y_test[0]\n",
    "for i in range(len(test_features)):\n",
    "    if y_test[i] == current_label:\n",
    "        current_sequence.append(test_features[i])\n",
    "    else:\n",
    "        exercise_sequences_test.append(current_sequence)\n",
    "        current_sequence = [test_features[i]]\n",
    "        current_label = y_test[i]\n",
    "exercise_sequences_test.append(current_sequence)\n",
    "\n",
    "# Train an HMM model on the feature sequences\n",
    "num_states = 3  # Specify the desired number of HMM states\n",
    "\n",
    "hmm_model = hmm.GaussianHMM(n_components=num_states, covariance_type=\"diag\", n_iter=100)\n",
    "for sequence in exercise_sequences_train:\n",
    "    hmm_model.fit(sequence)\n",
    "\n",
    "# Evaluate the trained HMM model on the test set and calculate performance metrics\n",
    "predicted_labels = []\n",
    "for sequence in exercise_sequences_test:\n",
    "    sequence_likelihoods = []\n",
    "    for state in range(num_states):\n",
    "        log_likelihood = hmm_model.score(sequence)\n",
    "        sequence_likelihoods.append(log_likelihood)\n",
    "    predicted_label = np.argmax(sequence_likelihoods)\n",
    "    predicted_labels.append(predicted_label)\n",
    "\n",
    "accuracy = accuracy_score(y_test, predicted_labels)\n",
    "print(\"Accuracy:\", accuracy)\n"
   ]
  },
  {
   "attachments": {},
   "cell_type": "markdown",
   "metadata": {},
   "source": [
    "#### Try-3"
   ]
  },
  {
   "cell_type": "code",
   "execution_count": null,
   "metadata": {},
   "outputs": [],
   "source": [
    "# Train an HMM model on the feature sequences\n",
    "num_states = 3  # Specify the desired number of HMM states\n",
    "\n",
    "hmm_models = []  # List to store HMM models for each repetition\n",
    "for sequence in exercise_sequences_train:\n",
    "    if len(sequence) >= num_states:\n",
    "        hmm_model = hmm.GaussianHMM(n_components=num_states, covariance_type=\"diag\", n_iter=100)\n",
    "        hmm_model.fit(sequence)\n",
    "        hmm_models.append(hmm_model)\n",
    "\n",
    "# Evaluate the trained HMM models on the test set and calculate performance metrics\n",
    "predicted_labels = []\n",
    "for sequence in exercise_sequences_test:\n",
    "    if len(sequence) >= num_states:\n",
    "        sequence_likelihoods = []\n",
    "        for hmm_model in hmm_models:\n",
    "            log_likelihood = hmm_model.score(sequence)\n",
    "            sequence_likelihoods.append(log_likelihood)\n",
    "        predicted_label = np.argmax(sequence_likelihoods)\n",
    "        predicted_labels.append(predicted_label)\n",
    "\n",
    "accuracy = accuracy_score(y_test, predicted_labels)\n",
    "print(\"Accuracy:\", accuracy)\n"
   ]
  },
  {
   "attachments": {},
   "cell_type": "markdown",
   "metadata": {},
   "source": [
    "#### Try-4"
   ]
  },
  {
   "cell_type": "code",
   "execution_count": null,
   "metadata": {},
   "outputs": [],
   "source": [
    "# Train an HMM model on the feature sequences\n",
    "num_states = 3  # Specify the desired number of HMM states\n",
    "\n",
    "hmm_models = []  # List to store HMM models for each repetition\n",
    "for sequence in exercise_sequences_train:\n",
    "    if len(sequence) >= num_states:\n",
    "        hmm_model = hmm.GaussianHMM(n_components=num_states, covariance_type=\"diag\", n_iter=100, startprob_prior=np.full(num_states, 1/num_states))\n",
    "        hmm_model.fit(sequence)\n",
    "        hmm_models.append(hmm_model)\n",
    "\n",
    "# Evaluate the trained HMM models on the test set and calculate performance metrics\n",
    "predicted_labels = []\n",
    "for sequence in exercise_sequences_test:\n",
    "    if len(sequence) >= num_states:\n",
    "        sequence_likelihoods = []\n",
    "        for hmm_model in hmm_models:\n",
    "            log_likelihood = hmm_model.score(sequence)\n",
    "            sequence_likelihoods.append(log_likelihood)\n",
    "        predicted_label = np.argmax(sequence_likelihoods)\n",
    "        predicted_labels.append(predicted_label)\n",
    "\n",
    "accuracy = accuracy_score(y_test, predicted_labels)\n",
    "print(\"Accuracy:\", accuracy)"
   ]
  },
  {
   "attachments": {},
   "cell_type": "markdown",
   "metadata": {},
   "source": [
    "#### Try-5"
   ]
  },
  {
   "cell_type": "code",
   "execution_count": null,
   "metadata": {},
   "outputs": [],
   "source": [
    "# Train an HMM model on the feature sequences\n",
    "num_states = 3  # Specify the desired number of HMM states\n",
    "\n",
    "hmm_models = []  # List to store HMM models for each repetition\n",
    "for sequence in exercise_sequences_train:\n",
    "    if len(sequence) >= num_states:\n",
    "        hmm_model = hmm.GaussianHMM(n_components=num_states, covariance_type=\"diag\", n_iter=100)\n",
    "        hmm_model.startprob_ = np.full(num_states, 1/num_states)\n",
    "        hmm_model.fit(sequence)\n",
    "        hmm_models.append(hmm_model)\n",
    "\n",
    "# Evaluate the trained HMM models on the test set and calculate performance metrics\n",
    "predicted_labels = []\n",
    "for sequence in exercise_sequences_test:\n",
    "    if len(sequence) >= num_states:\n",
    "        sequence_likelihoods = []\n",
    "        for hmm_model in hmm_models:\n",
    "            log_likelihood = hmm_model.score(sequence)\n",
    "            sequence_likelihoods.append(log_likelihood)\n",
    "        predicted_label = np.argmax(sequence_likelihoods)\n",
    "        predicted_labels.append(predicted_label)\n",
    "\n",
    "accuracy = accuracy_score(y_test, predicted_labels)\n",
    "print(\"Accuracy:\", accuracy)\n"
   ]
  },
  {
   "attachments": {},
   "cell_type": "markdown",
   "metadata": {},
   "source": [
    "#### Try-6"
   ]
  },
  {
   "cell_type": "code",
   "execution_count": null,
   "metadata": {},
   "outputs": [],
   "source": [
    "# Train an HMM model on the feature sequences\n",
    "num_states = 3  # Specify the desired number of HMM states\n",
    "\n",
    "hmm_models = []  # List to store HMM models for each repetition\n",
    "for sequence in exercise_sequences_train:\n",
    "    if len(sequence) >= num_states:\n",
    "        hmm_model = hmm.GaussianHMM(n_components=num_states, covariance_type=\"diag\", n_iter=100)\n",
    "        hmm_model.startprob_ = np.full(num_states, 1/num_states)\n",
    "        hmm_model.fit(sequence)\n",
    "        hmm_model.startprob_ = hmm_model.startprob_ / np.sum(hmm_model.startprob_)  # Normalize start probabilities\n",
    "        hmm_models.append(hmm_model)\n",
    "\n",
    "# Evaluate the trained HMM models on the test set and calculate performance metrics\n",
    "predicted_labels = []\n",
    "for sequence in exercise_sequences_test:\n",
    "    if len(sequence) >= num_states:\n",
    "        sequence_likelihoods = []\n",
    "        for hmm_model in hmm_models:\n",
    "            log_likelihood = hmm_model.score(sequence)\n",
    "            sequence_likelihoods.append(log_likelihood)\n",
    "        predicted_label = np.argmax(sequence_likelihoods)\n",
    "        predicted_labels.append(predicted_label)\n",
    "\n",
    "accuracy = accuracy_score(y_test, predicted_labels)\n",
    "print(\"Accuracy:\", accuracy)\n"
   ]
  },
  {
   "attachments": {},
   "cell_type": "markdown",
   "metadata": {},
   "source": [
    "#### Try-7"
   ]
  },
  {
   "cell_type": "code",
   "execution_count": null,
   "metadata": {},
   "outputs": [],
   "source": [
    "# Extract features from the trained CNN\n",
    "train_features = model.predict(X_train)\n",
    "test_features = model.predict(X_test)\n",
    "\n",
    "# Organize features into sequences for each repetition of the exercise\n",
    "# Assuming each repetition consists of 5 frames\n",
    "n_frames_per_repetition = 5\n",
    "train_sequences = np.split(train_features, len(X_train) // n_frames_per_repetition)\n",
    "test_sequences = np.split(test_features, len(X_test) // n_frames_per_repetition)\n",
    "\n",
    "# Train an HMM model\n",
    "hmm_model = hmm.GaussianHMM(n_components=3, covariance_type=\"diag\")\n",
    "hmm_model.fit(train_sequences)\n",
    "\n",
    "# Predict labels using the HMM model\n",
    "train_predictions = hmm_model.predict(train_sequences)\n",
    "test_predictions = hmm_model.predict(test_sequences)\n",
    "\n",
    "# Evaluate the performance of the HMM model\n",
    "train_accuracy = (train_predictions == y_train.reshape(-1, n_frames_per_repetition)).mean()\n",
    "test_accuracy = (test_predictions == y_test.reshape(-1, n_frames_per_repetition)).mean()\n",
    "\n",
    "print(\"Train accuracy:\", train_accuracy)\n",
    "print(\"Test accuracy:\", test_accuracy)"
   ]
  },
  {
   "attachments": {},
   "cell_type": "markdown",
   "metadata": {},
   "source": [
    "### Train the CNN using the labeled pose data, with correct and incorrect poses as target labels"
   ]
  },
  {
   "cell_type": "code",
   "execution_count": 33,
   "metadata": {},
   "outputs": [],
   "source": [
    "# Define the CNN model\n",
    "model = Sequential()\n",
    "model.add(Conv1D(32, kernel_size=3, activation='relu', input_shape=(25, 3)))\n",
    "model.add(MaxPooling1D(pool_size=2))\n",
    "model.add(Flatten())\n",
    "model.add(Dense(64, activation='relu'))\n",
    "model.add(Dense(2, activation='softmax'))"
   ]
  },
  {
   "cell_type": "code",
   "execution_count": 34,
   "metadata": {},
   "outputs": [],
   "source": [
    "# Compile the model\n",
    "model.compile(optimizer='adam', loss='sparse_categorical_crossentropy', metrics=['accuracy'])"
   ]
  },
  {
   "cell_type": "code",
   "execution_count": 35,
   "metadata": {},
   "outputs": [
    {
     "ename": "ValueError",
     "evalue": "Data cardinality is ambiguous:\n  x sizes: 5\n  y sizes: 16720\nMake sure all arrays contain the same number of samples.",
     "output_type": "error",
     "traceback": [
      "\u001b[1;31m---------------------------------------------------------------------------\u001b[0m",
      "\u001b[1;31mValueError\u001b[0m                                Traceback (most recent call last)",
      "Cell \u001b[1;32mIn[35], line 2\u001b[0m\n\u001b[0;32m      1\u001b[0m \u001b[39m# Train the model\u001b[39;00m\n\u001b[1;32m----> 2\u001b[0m history \u001b[39m=\u001b[39m model\u001b[39m.\u001b[39;49mfit(X_train, y_train, epochs\u001b[39m=\u001b[39;49m\u001b[39m10\u001b[39;49m, batch_size\u001b[39m=\u001b[39;49m\u001b[39m32\u001b[39;49m, validation_data\u001b[39m=\u001b[39;49m(X_test, y_test))\n",
      "File \u001b[1;32md:\\AI\\pos_estimation\\pose_estimation\\lib\\site-packages\\keras\\utils\\traceback_utils.py:70\u001b[0m, in \u001b[0;36mfilter_traceback.<locals>.error_handler\u001b[1;34m(*args, **kwargs)\u001b[0m\n\u001b[0;32m     67\u001b[0m     filtered_tb \u001b[39m=\u001b[39m _process_traceback_frames(e\u001b[39m.\u001b[39m__traceback__)\n\u001b[0;32m     68\u001b[0m     \u001b[39m# To get the full stack trace, call:\u001b[39;00m\n\u001b[0;32m     69\u001b[0m     \u001b[39m# `tf.debugging.disable_traceback_filtering()`\u001b[39;00m\n\u001b[1;32m---> 70\u001b[0m     \u001b[39mraise\u001b[39;00m e\u001b[39m.\u001b[39mwith_traceback(filtered_tb) \u001b[39mfrom\u001b[39;00m \u001b[39mNone\u001b[39;00m\n\u001b[0;32m     71\u001b[0m \u001b[39mfinally\u001b[39;00m:\n\u001b[0;32m     72\u001b[0m     \u001b[39mdel\u001b[39;00m filtered_tb\n",
      "File \u001b[1;32md:\\AI\\pos_estimation\\pose_estimation\\lib\\site-packages\\keras\\engine\\data_adapter.py:1852\u001b[0m, in \u001b[0;36m_check_data_cardinality\u001b[1;34m(data)\u001b[0m\n\u001b[0;32m   1845\u001b[0m     msg \u001b[39m+\u001b[39m\u001b[39m=\u001b[39m \u001b[39m\"\u001b[39m\u001b[39m  \u001b[39m\u001b[39m{}\u001b[39;00m\u001b[39m sizes: \u001b[39m\u001b[39m{}\u001b[39;00m\u001b[39m\\n\u001b[39;00m\u001b[39m\"\u001b[39m\u001b[39m.\u001b[39mformat(\n\u001b[0;32m   1846\u001b[0m         label,\n\u001b[0;32m   1847\u001b[0m         \u001b[39m\"\u001b[39m\u001b[39m, \u001b[39m\u001b[39m\"\u001b[39m\u001b[39m.\u001b[39mjoin(\n\u001b[0;32m   1848\u001b[0m             \u001b[39mstr\u001b[39m(i\u001b[39m.\u001b[39mshape[\u001b[39m0\u001b[39m]) \u001b[39mfor\u001b[39;00m i \u001b[39min\u001b[39;00m tf\u001b[39m.\u001b[39mnest\u001b[39m.\u001b[39mflatten(single_data)\n\u001b[0;32m   1849\u001b[0m         ),\n\u001b[0;32m   1850\u001b[0m     )\n\u001b[0;32m   1851\u001b[0m msg \u001b[39m+\u001b[39m\u001b[39m=\u001b[39m \u001b[39m\"\u001b[39m\u001b[39mMake sure all arrays contain the same number of samples.\u001b[39m\u001b[39m\"\u001b[39m\n\u001b[1;32m-> 1852\u001b[0m \u001b[39mraise\u001b[39;00m \u001b[39mValueError\u001b[39;00m(msg)\n",
      "\u001b[1;31mValueError\u001b[0m: Data cardinality is ambiguous:\n  x sizes: 5\n  y sizes: 16720\nMake sure all arrays contain the same number of samples."
     ]
    }
   ],
   "source": [
    "# Train the model\n",
    "history = model.fit(X_train, y_train, epochs=10, batch_size=32, validation_data=(X_test, y_test))"
   ]
  },
  {
   "attachments": {},
   "cell_type": "markdown",
   "metadata": {},
   "source": [
    "#### Fine-tune the CNN to optimize its performance on pose classification"
   ]
  },
  {
   "cell_type": "code",
   "execution_count": 36,
   "metadata": {},
   "outputs": [],
   "source": [
    "# Define the CNN model\n",
    "model = Sequential()\n",
    "model.add(Conv1D(32, kernel_size=3, activation='relu', input_shape=(25, 3)))\n",
    "model.add(MaxPooling1D(pool_size=2))\n",
    "model.add(Conv1D(64, kernel_size=3, activation='relu'))\n",
    "model.add(MaxPooling1D(pool_size=2))\n",
    "model.add(Flatten())\n",
    "model.add(Dense(128, activation='relu'))\n",
    "model.add(Dense(2, activation='softmax'))"
   ]
  },
  {
   "cell_type": "code",
   "execution_count": 37,
   "metadata": {},
   "outputs": [],
   "source": [
    "# Compile the model\n",
    "model.compile(optimizer='adam', loss='sparse_categorical_crossentropy', metrics=['accuracy'])"
   ]
  },
  {
   "cell_type": "code",
   "execution_count": 38,
   "metadata": {},
   "outputs": [],
   "source": [
    "# Define early stopping callback\n",
    "early_stopping = EarlyStopping(patience=3, restore_best_weights=True)"
   ]
  },
  {
   "cell_type": "code",
   "execution_count": 39,
   "metadata": {},
   "outputs": [
    {
     "ename": "ValueError",
     "evalue": "Data cardinality is ambiguous:\n  x sizes: 5\n  y sizes: 16720\nMake sure all arrays contain the same number of samples.",
     "output_type": "error",
     "traceback": [
      "\u001b[1;31m---------------------------------------------------------------------------\u001b[0m",
      "\u001b[1;31mValueError\u001b[0m                                Traceback (most recent call last)",
      "Cell \u001b[1;32mIn[39], line 2\u001b[0m\n\u001b[0;32m      1\u001b[0m \u001b[39m# Train the model\u001b[39;00m\n\u001b[1;32m----> 2\u001b[0m history \u001b[39m=\u001b[39m model\u001b[39m.\u001b[39;49mfit(X_train, y_train, epochs\u001b[39m=\u001b[39;49m\u001b[39m20\u001b[39;49m, batch_size\u001b[39m=\u001b[39;49m\u001b[39m32\u001b[39;49m, validation_data\u001b[39m=\u001b[39;49m(X_test, y_test), callbacks\u001b[39m=\u001b[39;49m[early_stopping])\n",
      "File \u001b[1;32md:\\AI\\pos_estimation\\pose_estimation\\lib\\site-packages\\keras\\utils\\traceback_utils.py:70\u001b[0m, in \u001b[0;36mfilter_traceback.<locals>.error_handler\u001b[1;34m(*args, **kwargs)\u001b[0m\n\u001b[0;32m     67\u001b[0m     filtered_tb \u001b[39m=\u001b[39m _process_traceback_frames(e\u001b[39m.\u001b[39m__traceback__)\n\u001b[0;32m     68\u001b[0m     \u001b[39m# To get the full stack trace, call:\u001b[39;00m\n\u001b[0;32m     69\u001b[0m     \u001b[39m# `tf.debugging.disable_traceback_filtering()`\u001b[39;00m\n\u001b[1;32m---> 70\u001b[0m     \u001b[39mraise\u001b[39;00m e\u001b[39m.\u001b[39mwith_traceback(filtered_tb) \u001b[39mfrom\u001b[39;00m \u001b[39mNone\u001b[39;00m\n\u001b[0;32m     71\u001b[0m \u001b[39mfinally\u001b[39;00m:\n\u001b[0;32m     72\u001b[0m     \u001b[39mdel\u001b[39;00m filtered_tb\n",
      "File \u001b[1;32md:\\AI\\pos_estimation\\pose_estimation\\lib\\site-packages\\keras\\engine\\data_adapter.py:1852\u001b[0m, in \u001b[0;36m_check_data_cardinality\u001b[1;34m(data)\u001b[0m\n\u001b[0;32m   1845\u001b[0m     msg \u001b[39m+\u001b[39m\u001b[39m=\u001b[39m \u001b[39m\"\u001b[39m\u001b[39m  \u001b[39m\u001b[39m{}\u001b[39;00m\u001b[39m sizes: \u001b[39m\u001b[39m{}\u001b[39;00m\u001b[39m\\n\u001b[39;00m\u001b[39m\"\u001b[39m\u001b[39m.\u001b[39mformat(\n\u001b[0;32m   1846\u001b[0m         label,\n\u001b[0;32m   1847\u001b[0m         \u001b[39m\"\u001b[39m\u001b[39m, \u001b[39m\u001b[39m\"\u001b[39m\u001b[39m.\u001b[39mjoin(\n\u001b[0;32m   1848\u001b[0m             \u001b[39mstr\u001b[39m(i\u001b[39m.\u001b[39mshape[\u001b[39m0\u001b[39m]) \u001b[39mfor\u001b[39;00m i \u001b[39min\u001b[39;00m tf\u001b[39m.\u001b[39mnest\u001b[39m.\u001b[39mflatten(single_data)\n\u001b[0;32m   1849\u001b[0m         ),\n\u001b[0;32m   1850\u001b[0m     )\n\u001b[0;32m   1851\u001b[0m msg \u001b[39m+\u001b[39m\u001b[39m=\u001b[39m \u001b[39m\"\u001b[39m\u001b[39mMake sure all arrays contain the same number of samples.\u001b[39m\u001b[39m\"\u001b[39m\n\u001b[1;32m-> 1852\u001b[0m \u001b[39mraise\u001b[39;00m \u001b[39mValueError\u001b[39;00m(msg)\n",
      "\u001b[1;31mValueError\u001b[0m: Data cardinality is ambiguous:\n  x sizes: 5\n  y sizes: 16720\nMake sure all arrays contain the same number of samples."
     ]
    }
   ],
   "source": [
    "# Train the model\n",
    "history = model.fit(X_train, y_train, epochs=20, batch_size=32, validation_data=(X_test, y_test), callbacks=[early_stopping])"
   ]
  },
  {
   "attachments": {},
   "cell_type": "markdown",
   "metadata": {},
   "source": [
    "2"
   ]
  },
  {
   "cell_type": "code",
   "execution_count": 143,
   "metadata": {},
   "outputs": [
    {
     "name": "stdout",
     "output_type": "stream",
     "text": [
      "Data shape: 80\n",
      "Labels shape: 80\n"
     ]
    }
   ],
   "source": [
    "# Process the JSON files and extract pose data\n",
    "def process_json_files(data_dir, repetition_count):\n",
    "    data = []\n",
    "    labels = []\n",
    "\n",
    "    # Iterate over the folders in the data directory\n",
    "    for folder_name in os.listdir(data_dir):\n",
    "        folder_path = os.path.join(data_dir, folder_name)\n",
    "\n",
    "        # Skip non-directory files (e.g., .DS_Store)\n",
    "        if not os.path.isdir(folder_path):\n",
    "            continue\n",
    "\n",
    "        # Determine the label based on whether it's the trainer or trainee folder\n",
    "        if folder_name == \"s08\":\n",
    "            label = \"correct\"\n",
    "        else:\n",
    "            label = \"incorrect\"\n",
    "\n",
    "        # Path to the joints3d_25 folder\n",
    "        joints3d_path = os.path.join(folder_path, \"joints3d_25\")\n",
    "\n",
    "        # Iterate over the files in the joints3d_25 folder\n",
    "        for filename in os.listdir(joints3d_path):\n",
    "            if filename.endswith(\".json\") and filename != \".DS_Store\":\n",
    "                file_path = os.path.join(joints3d_path, filename)\n",
    "\n",
    "                # Open and parse the JSON file\n",
    "                with open(file_path, \"r\") as f:\n",
    "                    json_data = json.load(f)\n",
    "\n",
    "                # Extract skeleton coordinates for each frame\n",
    "                frame_count = len(json_data[\"joints3d_25\"])\n",
    "                if frame_count >= repetition_count:\n",
    "                    for i in range(repetition_count):\n",
    "                        pose_data = []\n",
    "                        start_frame = i * (frame_count // repetition_count)\n",
    "                        end_frame = (i + 1) * (frame_count // repetition_count)\n",
    "\n",
    "                        # Extract coordinates for each body part in the specified frame range\n",
    "                        for frame_data in json_data[\"joints3d_25\"][start_frame:end_frame]:\n",
    "                            for part_coords in frame_data:\n",
    "                                pose_data.extend(part_coords)\n",
    "\n",
    "                        # Append the pose data and label to the lists\n",
    "                        data.append(pose_data)\n",
    "                        labels.append(label)\n",
    "\n",
    "    return data, labels\n",
    "\n",
    "\n",
    "# Specify the data directory and repetition count\n",
    "data_dir = \"D:/AI/pos_estimation/train/train\"\n",
    "repetition_count = 5\n",
    "\n",
    "# Process the JSON files and extract pose data\n",
    "data, labels = process_json_files(data_dir, repetition_count)\n",
    "\n",
    "# Print the shape of the data and labels\n",
    "print(\"Data shape:\", len(data))\n",
    "print(\"Labels shape:\", len(labels))"
   ]
  },
  {
   "cell_type": "code",
   "execution_count": 50,
   "metadata": {},
   "outputs": [
    {
     "name": "stdout",
     "output_type": "stream",
     "text": [
      "Model: \"sequential_6\"\n",
      "_________________________________________________________________\n",
      " Layer (type)                Output Shape              Param #   \n",
      "=================================================================\n",
      " conv1d_11 (Conv1D)          (None, 23, 32)            320       \n",
      "                                                                 \n",
      " max_pooling1d_11 (MaxPoolin  (None, 11, 32)           0         \n",
      " g1D)                                                            \n",
      "                                                                 \n",
      " conv1d_12 (Conv1D)          (None, 9, 64)             6208      \n",
      "                                                                 \n",
      " max_pooling1d_12 (MaxPoolin  (None, 4, 64)            0         \n",
      " g1D)                                                            \n",
      "                                                                 \n",
      " conv1d_13 (Conv1D)          (None, 2, 128)            24704     \n",
      "                                                                 \n",
      " max_pooling1d_13 (MaxPoolin  (None, 1, 128)           0         \n",
      " g1D)                                                            \n",
      "                                                                 \n",
      " flatten_6 (Flatten)         (None, 128)               0         \n",
      "                                                                 \n",
      " dense_12 (Dense)            (None, 128)               16512     \n",
      "                                                                 \n",
      " dense_13 (Dense)            (None, 64)                8256      \n",
      "                                                                 \n",
      " dense_14 (Dense)            (None, 1)                 65        \n",
      "                                                                 \n",
      "=================================================================\n",
      "Total params: 56,065\n",
      "Trainable params: 56,065\n",
      "Non-trainable params: 0\n",
      "_________________________________________________________________\n"
     ]
    }
   ],
   "source": [
    "import tensorflow as tf\n",
    "from tensorflow.keras import layers\n",
    "\n",
    "# Define the CNN model\n",
    "def build_cnn_model(input_shape):\n",
    "    model = tf.keras.Sequential()\n",
    "\n",
    "    # Convolutional layers\n",
    "    model.add(layers.Conv1D(32, 3, activation='relu', input_shape=input_shape))\n",
    "    model.add(layers.MaxPooling1D(2))\n",
    "    model.add(layers.Conv1D(64, 3, activation='relu'))\n",
    "    model.add(layers.MaxPooling1D(2))\n",
    "    model.add(layers.Conv1D(128, 3, activation='relu'))\n",
    "    model.add(layers.MaxPooling1D(2))\n",
    "\n",
    "    # Flatten layer\n",
    "    model.add(layers.Flatten())\n",
    "\n",
    "    # Dense layers\n",
    "    model.add(layers.Dense(128, activation='relu'))\n",
    "    model.add(layers.Dense(64, activation='relu'))\n",
    "    model.add(layers.Dense(1, activation='sigmoid'))  # Output layer for binary classification\n",
    "\n",
    "    return model\n",
    "\n",
    "# Specify the input shape based on your data\n",
    "input_shape = (25, 3)  # Assuming each sequence has 25 frames with 3 coordinates (x, y, z)\n",
    "\n",
    "# Build the CNN model\n",
    "model = build_cnn_model(input_shape)\n",
    "\n",
    "# Compile the model\n",
    "model.compile(optimizer='adam',\n",
    "              loss='binary_crossentropy',\n",
    "              metrics=['accuracy'])\n",
    "\n",
    "# Print the model summary\n",
    "model.summary()\n"
   ]
  },
  {
   "cell_type": "code",
   "execution_count": 51,
   "metadata": {},
   "outputs": [
    {
     "ename": "NameError",
     "evalue": "name 'X_val' is not defined",
     "output_type": "error",
     "traceback": [
      "\u001b[1;31m---------------------------------------------------------------------------\u001b[0m",
      "\u001b[1;31mNameError\u001b[0m                                 Traceback (most recent call last)",
      "Cell \u001b[1;32mIn[51], line 2\u001b[0m\n\u001b[0;32m      1\u001b[0m \u001b[39m# Train the model\u001b[39;00m\n\u001b[1;32m----> 2\u001b[0m history \u001b[39m=\u001b[39m model\u001b[39m.\u001b[39mfit(X_train, y_train, batch_size\u001b[39m=\u001b[39m\u001b[39m32\u001b[39m, epochs\u001b[39m=\u001b[39m\u001b[39m10\u001b[39m, validation_data\u001b[39m=\u001b[39m(X_val, y_val))\n\u001b[0;32m      4\u001b[0m loss, accuracy \u001b[39m=\u001b[39m model\u001b[39m.\u001b[39mevaluate(X_val, y_val)\n\u001b[0;32m      5\u001b[0m \u001b[39mprint\u001b[39m(\u001b[39m\"\u001b[39m\u001b[39mValidation loss:\u001b[39m\u001b[39m\"\u001b[39m, loss)\n",
      "\u001b[1;31mNameError\u001b[0m: name 'X_val' is not defined"
     ]
    }
   ],
   "source": [
    "# Train the model\n",
    "history = model.fit(X_train, y_train, batch_size=32, epochs=10, validation_data=(X_val, y_val))\n",
    "\n",
    "loss, accuracy = model.evaluate(X_val, y_val)\n",
    "print(\"Validation loss:\", loss)\n",
    "print(\"Validation accuracy:\", accuracy)\n",
    "\n"
   ]
  },
  {
   "attachments": {},
   "cell_type": "markdown",
   "metadata": {},
   "source": [
    "### 3) Temporal Modeling with HMM"
   ]
  },
  {
   "cell_type": "code",
   "execution_count": 132,
   "metadata": {},
   "outputs": [
    {
     "name": "stdout",
     "output_type": "stream",
     "text": [
      "523/523 [==============================] - 2s 3ms/step\n",
      "131/131 [==============================] - 0s 2ms/step\n"
     ]
    }
   ],
   "source": [
    "# Extract the features from the CNN for each frame of the pose data:\n",
    "from tensorflow.keras.models import Model\n",
    "\n",
    "# Define the feature extraction model\n",
    "feature_extractor = Model(inputs=model.input, outputs=model.layers[-2].output)\n",
    "\n",
    "# Extract features from the CNN for each frame of pose data\n",
    "X_train_features = feature_extractor.predict(X_train)\n",
    "X_test_features = feature_extractor.predict(X_test)\n"
   ]
  },
  {
   "cell_type": "code",
   "execution_count": null,
   "metadata": {},
   "outputs": [],
   "source": [
    "# Assuming you have identified the start and end indices for each repetition\n",
    "repetition_indices = [(start1, end1), (start2, end2), ...]\n",
    "\n",
    "# Initialize empty lists to store the organized feature sequences\n",
    "organized_train_sequences = []\n",
    "organized_test_sequences = []\n",
    "\n",
    "# Organize the features into sequences for each repetition in the training data\n",
    "for start, end in repetition_indices:\n",
    "    sequence = X_train_features[start:end]\n",
    "    organized_train_sequences.append(sequence)\n",
    "\n",
    "# Organize the features into sequences for each repetition in the testing data\n",
    "for start, end in repetition_indices:\n",
    "    sequence = X_test_features[start:end]\n",
    "    organized_test_sequences.append(sequence)\n"
   ]
  }
 ],
 "metadata": {
  "kernelspec": {
   "display_name": "pose_estimation",
   "language": "python",
   "name": "python3"
  },
  "language_info": {
   "codemirror_mode": {
    "name": "ipython",
    "version": 3
   },
   "file_extension": ".py",
   "mimetype": "text/x-python",
   "name": "python",
   "nbconvert_exporter": "python",
   "pygments_lexer": "ipython3",
   "version": "3.9.7"
  },
  "orig_nbformat": 4
 },
 "nbformat": 4,
 "nbformat_minor": 2
}
